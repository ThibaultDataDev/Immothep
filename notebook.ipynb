{
 "metadata": {
  "language_info": {
   "codemirror_mode": {
    "name": "ipython",
    "version": 3
   },
   "file_extension": ".py",
   "mimetype": "text/x-python",
   "name": "python",
   "nbconvert_exporter": "python",
   "pygments_lexer": "ipython3",
   "version": "3.7.9-final"
  },
  "orig_nbformat": 2,
  "kernelspec": {
   "name": "Python 3.7.9 64-bit ('Immothep': conda)",
   "display_name": "Python 3.7.9 64-bit ('Immothep': conda)",
   "metadata": {
    "interpreter": {
     "hash": "e23950344c2a0a328c0fcc8ab723357c9a53bd93bcbd0101baa32fa2fa15de81"
    }
   }
  }
 },
 "nbformat": 4,
 "nbformat_minor": 2,
 "cells": [
  {
   "cell_type": "code",
   "execution_count": 1,
   "metadata": {
    "tags": []
   },
   "outputs": [],
   "source": [
    "%load_ext autoreload\n",
    "%autoreload 2\n",
    "import pandas as pd\n",
    "import numpy as np\n",
    "from credentials import Credentials as cr\n",
    "import matplotlib as plt\n",
    "import os\n",
    "from split import Splitter\n",
    "\n",
    "splitter = Splitter()"
   ]
  },
  {
   "source": [
    "## Création et import du jeu de données principal"
   ],
   "cell_type": "markdown",
   "metadata": {}
  },
  {
   "cell_type": "code",
   "execution_count": 39,
   "metadata": {
    "tags": []
   },
   "outputs": [],
   "source": [
    "valeurs2019 = pd.read_csv(cr.PATH+'2019.txt', sep='|', usecols=['Nature mutation', 'Code postal','Nombre pieces principales', 'Surface terrain', 'Surface Carrez du 1er lot', 'Surface Carrez du 2eme lot', 'Surface Carrez du 3eme lot', 'Surface Carrez du 4eme lot', 'Surface Carrez du 5eme lot', 'Valeur fonciere'])\n",
    "valeurs2019.head()\n",
    "\n",
    "valeurs2019.to_csv(cr.CURATED_LOCAL_PATH + 'filtered2019.csv', index=False)"
   ]
  },
  {
   "source": [
    "## Split des natures de mutations pour n'utiliser que les ventes."
   ],
   "cell_type": "markdown",
   "metadata": {}
  },
  {
   "cell_type": "code",
   "execution_count": 33,
   "metadata": {
    "tags": []
   },
   "outputs": [
    {
     "output_type": "stream",
     "name": "stdout",
     "text": "../data/CURATED/Vente.csv\n../data/CURATED/Echange.csv\n../data/CURATED/Vente terrain à bâtir.csv\n../data/CURATED/Vente en l&#39;état futur d&#39;achèvement.csv\n../data/CURATED/Adjudication.csv\n../data/CURATED/Expropriation.csv\n"
    }
   ],
   "source": [
    "splitter.split_datas('filtered2019.csv', 'Nature mutation')"
   ]
  },
  {
   "source": [],
   "cell_type": "markdown",
   "metadata": {}
  },
  {
   "cell_type": "code",
   "execution_count": 12,
   "metadata": {
    "tags": []
   },
   "outputs": [
    {
     "output_type": "stream",
     "name": "stdout",
     "text": "610423  valeurs nulles /  1698116  valeurs totales.\n"
    }
   ],
   "source": [
    "ventes = pd.read_csv(cr.CURATED_LOCAL_PATH + \"Vente.csv\")\n",
    "ventes = ventes.drop(columns=['Unnamed: 0'])\n",
    "\n",
    "# Vérification du ratio de valeurs nulles en vue de nettoyer les données.\n",
    "nancount = ventes[\"Surface terrain\"].isna()\n",
    "print(nancount.sum(), ' valeurs nulles / ', ventes[\"Surface terrain\"].count(), ' valeurs totales.')\n"
   ]
  },
  {
   "cell_type": "code",
   "execution_count": 9,
   "metadata": {},
   "outputs": [
    {
     "output_type": "execute_result",
     "data": {
      "text/plain": "  Nature mutation Valeur fonciere  Code postal Surface Carrez du 1er lot  \\\n0           Vente        37220,00       1000.0                     19,27   \n1           Vente       185100,00       1000.0                       NaN   \n2           Vente       185100,00       1000.0                       NaN   \n3           Vente       209000,00       1160.0                       NaN   \n4           Vente       134900,00       1370.0                       NaN   \n\n  Surface Carrez du 2eme lot Surface Carrez du 3eme lot  \\\n0                        NaN                        NaN   \n1                      61,51                        NaN   \n2                        NaN                        NaN   \n3                        NaN                        NaN   \n4                        NaN                        NaN   \n\n  Surface Carrez du 4eme lot Surface Carrez du 5eme lot  \\\n0                        NaN                        NaN   \n1                        NaN                        NaN   \n2                        NaN                        NaN   \n3                        NaN                        NaN   \n4                        NaN                        NaN   \n\n   Nombre pieces principales  Surface terrain  \n0                        1.0              NaN  \n1                        3.0              NaN  \n2                        0.0              NaN  \n3                        4.0            940.0  \n4                        5.0            490.0  ",
      "text/html": "<div>\n<style scoped>\n    .dataframe tbody tr th:only-of-type {\n        vertical-align: middle;\n    }\n\n    .dataframe tbody tr th {\n        vertical-align: top;\n    }\n\n    .dataframe thead th {\n        text-align: right;\n    }\n</style>\n<table border=\"1\" class=\"dataframe\">\n  <thead>\n    <tr style=\"text-align: right;\">\n      <th></th>\n      <th>Nature mutation</th>\n      <th>Valeur fonciere</th>\n      <th>Code postal</th>\n      <th>Surface Carrez du 1er lot</th>\n      <th>Surface Carrez du 2eme lot</th>\n      <th>Surface Carrez du 3eme lot</th>\n      <th>Surface Carrez du 4eme lot</th>\n      <th>Surface Carrez du 5eme lot</th>\n      <th>Nombre pieces principales</th>\n      <th>Surface terrain</th>\n    </tr>\n  </thead>\n  <tbody>\n    <tr>\n      <th>0</th>\n      <td>Vente</td>\n      <td>37220,00</td>\n      <td>1000.0</td>\n      <td>19,27</td>\n      <td>NaN</td>\n      <td>NaN</td>\n      <td>NaN</td>\n      <td>NaN</td>\n      <td>1.0</td>\n      <td>NaN</td>\n    </tr>\n    <tr>\n      <th>1</th>\n      <td>Vente</td>\n      <td>185100,00</td>\n      <td>1000.0</td>\n      <td>NaN</td>\n      <td>61,51</td>\n      <td>NaN</td>\n      <td>NaN</td>\n      <td>NaN</td>\n      <td>3.0</td>\n      <td>NaN</td>\n    </tr>\n    <tr>\n      <th>2</th>\n      <td>Vente</td>\n      <td>185100,00</td>\n      <td>1000.0</td>\n      <td>NaN</td>\n      <td>NaN</td>\n      <td>NaN</td>\n      <td>NaN</td>\n      <td>NaN</td>\n      <td>0.0</td>\n      <td>NaN</td>\n    </tr>\n    <tr>\n      <th>3</th>\n      <td>Vente</td>\n      <td>209000,00</td>\n      <td>1160.0</td>\n      <td>NaN</td>\n      <td>NaN</td>\n      <td>NaN</td>\n      <td>NaN</td>\n      <td>NaN</td>\n      <td>4.0</td>\n      <td>940.0</td>\n    </tr>\n    <tr>\n      <th>4</th>\n      <td>Vente</td>\n      <td>134900,00</td>\n      <td>1370.0</td>\n      <td>NaN</td>\n      <td>NaN</td>\n      <td>NaN</td>\n      <td>NaN</td>\n      <td>NaN</td>\n      <td>5.0</td>\n      <td>490.0</td>\n    </tr>\n  </tbody>\n</table>\n</div>"
     },
     "metadata": {},
     "execution_count": 9
    }
   ],
   "source": [
    "ventes.head()"
   ]
  },
  {
   "cell_type": "code",
   "execution_count": 10,
   "metadata": {
    "tags": []
   },
   "outputs": [
    {
     "output_type": "stream",
     "name": "stdout",
     "text": "27270\n"
    }
   ],
   "source": [
    "nancount = ventes[\"Valeur fonciere\"].isna()\n",
    "print (nancount.sum())"
   ]
  },
  {
   "cell_type": "code",
   "execution_count": 14,
   "metadata": {
    "tags": []
   },
   "outputs": [
    {
     "output_type": "stream",
     "name": "stdout",
     "text": "27270\n"
    }
   ],
   "source": [
    "# ventes = ventes.dropna()\n",
    "# ventes.head()"
   ]
  },
  {
   "cell_type": "code",
   "execution_count": null,
   "metadata": {},
   "outputs": [],
   "source": []
  }
 ]
}