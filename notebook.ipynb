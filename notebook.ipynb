{
 "cells": [
  {
   "cell_type": "code",
   "execution_count": null,
   "metadata": {
    "tags": []
   },
   "outputs": [],
   "source": [
    "%load_ext autoreload\n",
    "%autoreload 2\n",
    "import pandas as pd\n",
    "import numpy as np\n",
    "import seaborn as sn\n",
    "import matplotlib\n",
    "import matplotlib.pyplot as plt\n",
    "from credentials import Credentials as cr\n",
    "from prediction import ImmothepPrediction\n",
    "import os\n",
    "from split import Splitter\n",
    "\n",
    "splitter = Splitter()"
   ]
  },
  {
   "cell_type": "markdown",
   "metadata": {},
   "source": [
    "## Création et import du jeu de données principal"
   ]
  },
  {
   "cell_type": "code",
   "execution_count": null,
   "metadata": {
    "tags": []
   },
   "outputs": [],
   "source": [
    "valeurs2019 = pd.read_csv(cr.PATH+'2019.txt', sep='|', usecols=['Nature mutation', 'Code postal','Nombre pieces principales', 'Surface terrain', 'Surface Carrez du 1er lot', 'Surface Carrez du 2eme lot', 'Surface Carrez du 3eme lot', 'Surface Carrez du 4eme lot', 'Surface Carrez du 5eme lot', 'Valeur fonciere', 'Type local', 'Nombre de lots'], encoding='utf-8')\n",
    "\n",
    "valeurs2019 = valeurs2019.dropna(subset = ['Type local', 'Nombre de lots', 'Nombre pieces principales', \"Nature mutation\"])\n",
    "\n",
    "valeurs2019['Surface terrain'][valeurs2019['Type local'].str.contains(\"Appartement\", regex=True)] = valeurs2019['Surface terrain'][valeurs2019['Type local'].str.contains(\"Appartement\", regex=True)].fillna(0) \n",
    "\n",
    "valeurs2019 = valeurs2019[['Code postal', 'Nombre pieces principales', 'Surface terrain', 'Surface Carrez du 1er lot', 'Surface Carrez du 2eme lot', 'Surface Carrez du 3eme lot', 'Surface Carrez du 4eme lot', 'Surface Carrez du 5eme lot', 'Valeur fonciere']][valeurs2019['Type local'].str.contains(\"Appartement|Maison\", regex=True)][valeurs2019['Nature mutation'].str.contains(\"Vente\", regex=True)][valeurs2019['Nombre de lots']<6][valeurs2019['Nombre pieces principales']>0]\n",
    "\n",
    "valeurs2019.head()"
   ]
  },
  {
   "cell_type": "markdown",
   "metadata": {},
   "source": []
  },
  {
   "cell_type": "code",
   "execution_count": null,
   "metadata": {
    "tags": []
   },
   "outputs": [],
   "source": [
    "# Vérification du ratio de valeurs nulles en vue de nettoyer les données.\n",
    "\n",
    "nancount = valeurs2019[\"Valeur fonciere\"].isna()\n",
    "print (\"Il y a \", nancount.sum(), \" valeurs nulles dans la colonne \\'Valeur Foncière\\'.\")\n",
    "valeurs2019 = valeurs2019.dropna(subset = ['Valeur fonciere'])\n",
    "nancount = valeurs2019[\"Valeur fonciere\"].isna()\n",
    "print (\"Il y a \", nancount.sum(), \" valeurs nulles dans la colonne \\'Valeur Foncière\\'.\")\n",
    "\n",
    "nancount = valeurs2019[\"Code postal\"].isna()\n",
    "print (\"Il y a \", nancount.sum(), \" valeurs nulles dans la colonne \\'Code postal\\'.\")\n",
    "valeurs2019 = valeurs2019.dropna(subset = ['Code postal'])\n",
    "nancount = valeurs2019[\"Code postal\"].isna()\n",
    "print (\"Il y a \", nancount.sum(), \" valeurs nulles dans la colonne \\'Code postal\\'.\")\n"
   ]
  },
  {
   "cell_type": "code",
   "execution_count": null,
   "metadata": {
    "tags": []
   },
   "outputs": [],
   "source": [
    "valeurs2019.info()"
   ]
  },
  {
   "cell_type": "code",
   "execution_count": null,
   "metadata": {},
   "outputs": [],
   "source": [
    "valeurs2019[['Valeur fonciere', 'Surface Carrez du 1er lot', 'Surface Carrez du 2eme lot', 'Surface Carrez du 3eme lot', 'Surface Carrez du 4eme lot', 'Surface Carrez du 5eme lot']] = valeurs2019[['Valeur fonciere', 'Surface Carrez du 1er lot', 'Surface Carrez du 2eme lot', 'Surface Carrez du 3eme lot', 'Surface Carrez du 4eme lot', 'Surface Carrez du 5eme lot']].replace(',', '.', regex=True)\n",
    "\n",
    "valeurs2019[['Valeur fonciere', 'Surface Carrez du 1er lot', 'Surface Carrez du 2eme lot', 'Surface Carrez du 3eme lot', 'Surface Carrez du 4eme lot', 'Surface Carrez du 5eme lot']]  = valeurs2019[['Valeur fonciere', 'Surface Carrez du 1er lot', 'Surface Carrez du 2eme lot', 'Surface Carrez du 3eme lot', 'Surface Carrez du 4eme lot', 'Surface Carrez du 5eme lot']].astype('float')"
   ]
  },
  {
   "cell_type": "code",
   "execution_count": null,
   "metadata": {
    "tags": []
   },
   "outputs": [],
   "source": [
    "valeurs2019.info()"
   ]
  },
  {
   "cell_type": "code",
   "execution_count": null,
   "metadata": {},
   "outputs": [],
   "source": [
    "corrMatrix = valeurs2019.corr()\n",
    "sn.heatmap(corrMatrix, annot=True)\n",
    "plt.show()"
   ]
  },
  {
   "cell_type": "code",
   "execution_count": null,
   "metadata": {},
   "outputs": [],
   "source": [
    "valeurs2019 = valeurs2019[valeurs2019['Valeur fonciere']>200]"
   ]
  },
  {
   "cell_type": "code",
   "execution_count": null,
   "metadata": {
    "tags": []
   },
   "outputs": [],
   "source": [
    "nancount = valeurs2019[\"Surface terrain\"].isna()\n",
    "print (\"Il y a \", nancount.sum(), \" valeurs nulles dans la colonne \\'Surface Terrain\\'.\")\n",
    "valeurs2019 = valeurs2019.dropna(subset = ['Surface terrain'])\n",
    "\n",
    "nancount = valeurs2019[\"Surface terrain\"].isna()\n",
    "print (\"Il y a \", nancount.sum(), \" valeurs nulles dans la colonne \\'Surface Terrain\\'.\")\n",
    "\n",
    "valeurs2019 = valeurs2019.fillna(0)"
   ]
  },
  {
   "cell_type": "code",
   "execution_count": null,
   "metadata": {},
   "outputs": [],
   "source": [
    "corrMatrix = valeurs2019.corr()\n",
    "sn.heatmap(corrMatrix, annot=True)\n",
    "plt.show()"
   ]
  },
  {
   "cell_type": "markdown",
   "metadata": {},
   "source": [
    "Test de la prédiction de la valeur foncière sur l'élémant d'index 5 de valeurs2019"
   ]
  },
  {
   "cell_type": "code",
   "execution_count": null,
   "metadata": {},
   "outputs": [],
   "source": [
    "predictor = ImmothepPrediction()\n",
    "\n",
    "try:\n",
    "    result = predictor.predict(valeurs2019, 5)\n",
    "except : \n",
    "    print('Elément non trouvé.')"
   ]
  },
  {
   "cell_type": "markdown",
   "metadata": {},
   "source": [
    "### Modification du modèle avec méthode d'entraînement et méthode de test"
   ]
  },
  {
   "cell_type": "code",
   "execution_count": null,
   "metadata": {},
   "outputs": [],
   "source": [
    "modele, scaler, lab_enc = predictor.entrainementLR(valeurs2019)\n",
    "\n",
    "result = predictor.predictionLR(valeurs2019[valeurs2019.index==693], modele, scaler, lab_enc)"
   ]
  },
  {
   "cell_type": "code",
   "execution_count": null,
   "metadata": {},
   "outputs": [],
   "source": [
    "predictor.predictionLR(valeurs2019[valeurs2019.index==10], modele, scaler, lab_enc)"
   ]
  },
  {
   "cell_type": "markdown",
   "metadata": {},
   "source": [
    "### Modification du dataset pour rendre la prédiction plus précise"
   ]
  },
  {
   "cell_type": "code",
   "execution_count": null,
   "metadata": {},
   "outputs": [],
   "source": [
    "valeurs2019.plot.scatter(\"Surface terrain\", \"Valeur fonciere\")"
   ]
  },
  {
   "cell_type": "code",
   "execution_count": null,
   "metadata": {},
   "outputs": [],
   "source": [
    "valeurs2019 = valeurs2019[valeurs2019['Valeur fonciere']<60000000]\n",
    "valeurs2019 = valeurs2019[valeurs2019['Surface terrain']<400000]"
   ]
  },
  {
   "cell_type": "code",
   "execution_count": null,
   "metadata": {},
   "outputs": [],
   "source": [
    "valeurs2019.plot.scatter(\"Surface terrain\", \"Valeur fonciere\")"
   ]
  },
  {
   "cell_type": "markdown",
   "metadata": {},
   "source": [
    "### Nouveau test de prédiction"
   ]
  },
  {
   "cell_type": "code",
   "execution_count": null,
   "metadata": {},
   "outputs": [],
   "source": [
    "modele, scaler, lab_enc = predictor.entrainementLR(valeurs2019)"
   ]
  },
  {
   "cell_type": "code",
   "execution_count": null,
   "metadata": {},
   "outputs": [],
   "source": [
    "predictor.predictionLR(valeurs2019[valeurs2019.index==5], modele, scaler, lab_enc)"
   ]
  },
  {
   "cell_type": "code",
   "execution_count": null,
   "metadata": {},
   "outputs": [],
   "source": [
    "predictor.predict(valeurs2019, 5)"
   ]
  },
  {
   "cell_type": "code",
   "execution_count": null,
   "metadata": {},
   "outputs": [],
   "source": [
    "predictor.predict(valeurs2019, 693)"
   ]
  },
  {
   "cell_type": "code",
   "execution_count": null,
   "metadata": {},
   "outputs": [],
   "source": [
    "predictor.predictionLR(valeurs2019[valeurs2019.index==693], modele, scaler, lab_enc)"
   ]
  },
  {
   "cell_type": "markdown",
   "metadata": {},
   "source": [
    "### Export du premier dataset de travail"
   ]
  },
  {
   "cell_type": "code",
   "execution_count": null,
   "metadata": {},
   "outputs": [],
   "source": [
    "valeurs2019.to_csv(cr.CURATED_LOCAL_PATH + 'filtered2019.csv', index=False)"
   ]
  },
  {
   "cell_type": "markdown",
   "metadata": {},
   "source": [
    "## Création d'un nouveau dataset avec des attributs différents"
   ]
  },
  {
   "cell_type": "code",
   "execution_count": null,
   "metadata": {},
   "outputs": [],
   "source": [
    "valeurs2019 = pd.read_csv(cr.PATH+'2019.txt', sep='|', usecols=['Nature mutation', 'Code postal','Nombre pieces principales', 'Surface terrain', 'Surface reelle bati', 'Valeur fonciere', 'Type local', 'Nombre de lots'], encoding='utf-8')\n",
    "\n",
    "valeurs2019 = valeurs2019.dropna(subset = ['Type local', 'Nombre de lots', 'Nombre pieces principales', 'Nature mutation', 'Surface reelle bati'])\n",
    "\n",
    "valeurs2019['Surface terrain'][valeurs2019['Type local'].str.contains(\"Appartement\", regex=True)] = valeurs2019['Surface terrain'][valeurs2019['Type local'].str.contains(\"Appartement\", regex=True)].fillna(0) \n",
    "\n",
    "valeurs2019 = valeurs2019[['Type local', 'Code postal', 'Nombre pieces principales', 'Surface terrain', 'Surface reelle bati', 'Valeur fonciere']][valeurs2019['Type local'].str.contains(\"Appartement|Maison\", regex=True)][valeurs2019['Nature mutation'].str.contains(\"Vente\", regex=True)][valeurs2019['Nombre de lots']][valeurs2019['Nombre pieces principales']>0]\n",
    "\n",
    "valeurs2019.head()\n"
   ]
  },
  {
   "cell_type": "code",
   "execution_count": null,
   "metadata": {},
   "outputs": [],
   "source": [
    "# Vérification du ratio de valeurs nulles en vue de nettoyer les données.\n",
    "\n",
    "nancount = valeurs2019[\"Valeur fonciere\"].isna()\n",
    "print (\"Il y a \", nancount.sum(), \" valeurs nulles dans la colonne \\'Valeur Foncière\\'.\")\n",
    "valeurs2019 = valeurs2019.dropna(subset = ['Valeur fonciere'])\n",
    "nancount = valeurs2019[\"Valeur fonciere\"].isna()\n",
    "print (\"Il y a \", nancount.sum(), \" valeurs nulles dans la colonne \\'Valeur Foncière\\'.\")\n",
    "\n",
    "nancount = valeurs2019[\"Code postal\"].isna()\n",
    "print (\"Il y a \", nancount.sum(), \" valeurs nulles dans la colonne \\'Code postal\\'.\")\n",
    "valeurs2019 = valeurs2019.dropna(subset = ['Code postal'])\n",
    "nancount = valeurs2019[\"Code postal\"].isna()\n",
    "print (\"Il y a \", nancount.sum(), \" valeurs nulles dans la colonne \\'Code postal\\'.\")\n"
   ]
  },
  {
   "cell_type": "code",
   "execution_count": null,
   "metadata": {},
   "outputs": [],
   "source": [
    "valeurs2019.info()"
   ]
  },
  {
   "cell_type": "code",
   "execution_count": null,
   "metadata": {},
   "outputs": [],
   "source": [
    "valeurs2019[['Valeur fonciere']] = valeurs2019[['Valeur fonciere']].replace(',', '.', regex=True)\n",
    "\n",
    "valeurs2019[['Valeur fonciere']]  = valeurs2019[['Valeur fonciere']].astype('float')"
   ]
  },
  {
   "cell_type": "code",
   "execution_count": null,
   "metadata": {},
   "outputs": [],
   "source": [
    "valeurs2019 = valeurs2019[valeurs2019['Valeur fonciere']>200]\n",
    "valeurs2019 = valeurs2019[valeurs2019['Valeur fonciere']<60000000]\n",
    "valeurs2019 = valeurs2019[valeurs2019['Surface terrain']<400000]\n",
    "\n",
    "nancount = valeurs2019[\"Surface terrain\"].isna()\n",
    "print (\"Il y a \", nancount.sum(), \" valeurs nulles dans la colonne \\'Surface Terrain\\'.\")\n",
    "valeurs2019 = valeurs2019.dropna(subset = ['Surface terrain'])\n",
    "nancount = valeurs2019[\"Surface terrain\"].isna()\n",
    "print (\"Il y a \", nancount.sum(), \" valeurs nulles dans la colonne \\'Surface Terrain\\'.\")"
   ]
  },
  {
   "cell_type": "code",
   "execution_count": null,
   "metadata": {},
   "outputs": [],
   "source": [
    "maisons2019=valeurs2019[['Code postal', 'Nombre pieces principales', 'Surface terrain', 'Surface reelle bati', 'Valeur fonciere']][valeurs2019['Type local'].str.contains(\"Maison\", regex=True)].reset_index(drop=True)\n",
    "\n",
    "appart2019=valeurs2019[['Code postal', 'Nombre pieces principales', 'Surface terrain', 'Surface reelle bati', 'Valeur fonciere']][valeurs2019['Type local'].str.contains(\"Appartement\", regex=True)][valeurs2019['Surface reelle bati']>9].reset_index(drop=True)"
   ]
  },
  {
   "cell_type": "code",
   "execution_count": null,
   "metadata": {},
   "outputs": [],
   "source": [
    "maisons2019.plot.scatter(\"Surface terrain\", \"Valeur fonciere\")"
   ]
  },
  {
   "cell_type": "code",
   "execution_count": null,
   "metadata": {},
   "outputs": [],
   "source": [
    "appart2019.plot.scatter(\"Surface terrain\", \"Valeur fonciere\")"
   ]
  },
  {
   "cell_type": "code",
   "execution_count": null,
   "metadata": {},
   "outputs": [],
   "source": [
    "maisons2019.to_csv(cr.CURATED_LOCAL_PATH + 'filteredmaisons2019.csv', index=False)\n",
    "\n",
    "appart2019.to_csv(cr.CURATED_LOCAL_PATH + 'filteredappart2019.csv', index=False)"
   ]
  },
  {
   "cell_type": "code",
   "execution_count": null,
   "metadata": {},
   "outputs": [],
   "source": [
    "corrMatrix = maisons2019.corr()\n",
    "sn.heatmap(corrMatrix, annot=True)\n",
    "plt.show()"
   ]
  },
  {
   "cell_type": "code",
   "execution_count": null,
   "metadata": {},
   "outputs": [],
   "source": [
    "corrMatrix = appart2019.corr()\n",
    "sn.heatmap(corrMatrix, annot=True)\n",
    "plt.show()"
   ]
  },
  {
   "cell_type": "code",
   "execution_count": null,
   "metadata": {},
   "outputs": [],
   "source": [
    "predictor = ImmothepPrediction()\n",
    "\n",
    "modele_maison, scaler_maison, lab_enc_maison = predictor.entrainementLR(maisons2019)"
   ]
  },
  {
   "cell_type": "code",
   "execution_count": null,
   "metadata": {},
   "outputs": [],
   "source": [
    "modele_appart, scaler_appart, lab_enc_appart = predictor.entrainementLR(appart2019)"
   ]
  },
  {
   "cell_type": "code",
   "execution_count": null,
   "metadata": {},
   "outputs": [],
   "source": [
    "predictor.predictionLR(appart2019[appart2019.index==28], modele_maison, scaler_maison, lab_enc_maison)"
   ]
  },
  {
   "cell_type": "code",
   "execution_count": null,
   "metadata": {},
   "outputs": [],
   "source": [
    "modele_lineaire_appart = predictor.entrainementLinear(appart2019)"
   ]
  },
  {
   "cell_type": "code",
   "execution_count": null,
   "metadata": {},
   "outputs": [],
   "source": [
    "predictor.predictionLinear(appart2019[appart2019.index==28], modele_lineaire_appart)"
   ]
  },
  {
   "cell_type": "code",
   "execution_count": null,
   "metadata": {},
   "outputs": [],
   "source": [
    "modele_lineaire_appart = predictor.trainLinearLeRetour(appart2019)"
   ]
  },
  {
   "cell_type": "code",
   "execution_count": null,
   "metadata": {},
   "outputs": [],
   "source": [
    "predictor.predictionLinear(appart2019[appart2019.index==28], modele_lineaire_appart)"
   ]
  },
  {
   "cell_type": "code",
   "execution_count": null,
   "metadata": {},
   "outputs": [],
   "source": [
    "maisons2019 = pd.read_csv(cr.CURATED_LOCAL_PATH + 'filteredmaisons2019.csv', sep=\",\")\n",
    "appart2019 = pd.read_csv(cr.CURATED_LOCAL_PATH + 'filteredappart2019.csv', sep=\",\")\n"
   ]
  },
  {
   "cell_type": "code",
   "execution_count": null,
   "metadata": {},
   "outputs": [],
   "source": [
    "splitter.split_datas('filteredmaisons2019.csv', 'Code postal', 'CPMaisons')"
   ]
  },
  {
   "cell_type": "code",
   "execution_count": null,
   "metadata": {},
   "outputs": [],
   "source": [
    "splitter.split_datas('filteredappart2019.csv', 'Code postal', 'CPAppart')"
   ]
  },
  {
   "cell_type": "code",
   "execution_count": null,
   "metadata": {},
   "outputs": [],
   "source": [
    "maisonsavendre = pd.read_csv(cr.CURATED_LOCAL_PATH+'CPMaisons/63.csv')"
   ]
  },
  {
   "cell_type": "code",
   "execution_count": null,
   "metadata": {},
   "outputs": [],
   "source": [
    "predictor = ImmothepPrediction()\n",
    "\n",
    "maisonsavendre = maisonsavendre.dropna()\n",
    "modele, scaler = predictor.entrainementLR(maisonsavendre)"
   ]
  },
  {
   "cell_type": "code",
   "execution_count": null,
   "metadata": {},
   "outputs": [],
   "source": [
    "predictor.predictionLR(maisonsavendre[maisonsavendre.index==123], modele, scaler)"
   ]
  },
  {
   "cell_type": "code",
   "execution_count": null,
   "metadata": {},
   "outputs": [],
   "source": [
    "modeleL = predictor.trainLinearLeRetour(maisonsavendre)"
   ]
  },
  {
   "cell_type": "code",
   "execution_count": null,
   "metadata": {},
   "outputs": [],
   "source": [
    "predictor.predictionLinear(maisonsavendre[maisonsavendre.index==123], modeleL)"
   ]
  },
  {
   "cell_type": "code",
   "execution_count": null,
   "metadata": {},
   "outputs": [],
   "source": [
    "newdf = maisonsavendre.aggregate('Valeur fonciere', axis=1)"
   ]
  }
 ],
 "metadata": {
  "kernelspec": {
   "display_name": "Python 3",
   "language": "python",
   "name": "python3"
  },
  "language_info": {
   "codemirror_mode": {
    "name": "ipython",
    "version": 3
   },
   "file_extension": ".py",
   "mimetype": "text/x-python",
   "name": "python",
   "nbconvert_exporter": "python",
   "pygments_lexer": "ipython3",
   "version": "3.7.9-final"
  }
 },
 "nbformat": 4,
 "nbformat_minor": 2
}