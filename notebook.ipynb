{
 "metadata": {
  "language_info": {
   "codemirror_mode": {
    "name": "ipython",
    "version": 3
   },
   "file_extension": ".py",
   "mimetype": "text/x-python",
   "name": "python",
   "nbconvert_exporter": "python",
   "pygments_lexer": "ipython3",
   "version": "3.8.5-final"
  },
  "orig_nbformat": 2,
  "kernelspec": {
   "name": "Python 3.8.5 64-bit ('data-ia': conda)",
   "display_name": "Python 3.8.5 64-bit ('data-ia': conda)",
   "metadata": {
    "interpreter": {
     "hash": "b521198ca28846cc1e62545e6db678c2facd12f800abaadb2702f6952f824412"
    }
   }
  }
 },
 "nbformat": 4,
 "nbformat_minor": 2,
 "cells": [
  {
   "cell_type": "code",
   "execution_count": 39,
   "metadata": {
    "tags": []
   },
   "outputs": [],
   "source": [
    "%load_ext autoreload\n",
    "%autoreload 2\n",
    "import pandas as pd\n",
    "import numpy as np\n",
    "from credentials import Credentials as cr\n",
    "import os"
   ]
  },
  {
   "cell_type": "code",
   "execution_count": 64,
   "metadata": {
    "tags": []
   },
   "outputs": [
    {
     "output_type": "stream",
     "name": "stdout",
     "text": "&lt;class &#39;pandas.core.frame.DataFrame&#39;&gt;\nRangeIndex: 2535791 entries, 0 to 2535790\nData columns (total 43 columns):\n #   Column                      Dtype  \n---  ------                      -----  \n 0   Code service CH             float64\n 1   Reference document          float64\n 2   1 Articles CGI              float64\n 3   2 Articles CGI              float64\n 4   3 Articles CGI              float64\n 5   4 Articles CGI              float64\n 6   5 Articles CGI              float64\n 7   No disposition              int64  \n 8   Date mutation               object \n 9   Nature mutation             object \n 10  Valeur fonciere             object \n 11  No voie                     float64\n 12  B/T/Q                       object \n 13  Type de voie                object \n 14  Code voie                   object \n 15  Voie                        object \n 16  Code postal                 float64\n 17  Commune                     object \n 18  Code departement            object \n 19  Code commune                int64  \n 20  Prefixe de section          float64\n 21  Section                     object \n 22  No plan                     int64  \n 23  No Volume                   object \n 24  1er lot                     object \n 25  Surface Carrez du 1er lot   object \n 26  2eme lot                    object \n 27  Surface Carrez du 2eme lot  object \n 28  3eme lot                    object \n 29  Surface Carrez du 3eme lot  object \n 30  4eme lot                    float64\n 31  Surface Carrez du 4eme lot  object \n 32  5eme lot                    float64\n 33  Surface Carrez du 5eme lot  object \n 34  Nombre de lots              int64  \n 35  Code type local             float64\n 36  Type local                  object \n 37  Identifiant local           float64\n 38  Surface reelle bati         float64\n 39  Nombre pieces principales   float64\n 40  Nature culture              object \n 41  Nature culture speciale     object \n 42  Surface terrain             float64\ndtypes: float64(17), int64(4), object(22)\nmemory usage: 831.9+ MB\nNone\n"
    }
   ],
   "source": [
    "abra = pd.read_csv(cr.PATH+'2019.txt', sep='|')\n",
    "kadabra = abra.info()\n",
    "print (kadabra)"
   ]
  },
  {
   "cell_type": "code",
   "execution_count": 66,
   "metadata": {},
   "outputs": [
    {
     "output_type": "execute_result",
     "data": {
      "text/plain": "  Nature mutation   Type local  Code postal  Nombre pieces principales  \\\n0           Vente  Appartement       1000.0                        1.0   \n1           Vente  Appartement       1000.0                        3.0   \n2           Vente   Dépendance       1000.0                        0.0   \n3           Vente       Maison       1160.0                        4.0   \n4           Vente       Maison       1370.0                        5.0   \n\n   Surface terrain Surface Carrez du 1er lot Surface Carrez du 2eme lot  \\\n0              NaN                     19,27                        NaN   \n1              NaN                       NaN                      61,51   \n2              NaN                       NaN                        NaN   \n3            940.0                       NaN                        NaN   \n4            490.0                       NaN                        NaN   \n\n  Surface Carrez du 3eme lot Surface Carrez du 4eme lot  \\\n0                        NaN                        NaN   \n1                        NaN                        NaN   \n2                        NaN                        NaN   \n3                        NaN                        NaN   \n4                        NaN                        NaN   \n\n  Surface Carrez du 5eme lot Valeur fonciere  \n0                        NaN        37220,00  \n1                        NaN       185100,00  \n2                        NaN       185100,00  \n3                        NaN       209000,00  \n4                        NaN       134900,00  ",
      "text/html": "<div>\n<style scoped>\n    .dataframe tbody tr th:only-of-type {\n        vertical-align: middle;\n    }\n\n    .dataframe tbody tr th {\n        vertical-align: top;\n    }\n\n    .dataframe thead th {\n        text-align: right;\n    }\n</style>\n<table border=\"1\" class=\"dataframe\">\n  <thead>\n    <tr style=\"text-align: right;\">\n      <th></th>\n      <th>Nature mutation</th>\n      <th>Type local</th>\n      <th>Code postal</th>\n      <th>Nombre pieces principales</th>\n      <th>Surface terrain</th>\n      <th>Surface Carrez du 1er lot</th>\n      <th>Surface Carrez du 2eme lot</th>\n      <th>Surface Carrez du 3eme lot</th>\n      <th>Surface Carrez du 4eme lot</th>\n      <th>Surface Carrez du 5eme lot</th>\n      <th>Valeur fonciere</th>\n    </tr>\n  </thead>\n  <tbody>\n    <tr>\n      <th>0</th>\n      <td>Vente</td>\n      <td>Appartement</td>\n      <td>1000.0</td>\n      <td>1.0</td>\n      <td>NaN</td>\n      <td>19,27</td>\n      <td>NaN</td>\n      <td>NaN</td>\n      <td>NaN</td>\n      <td>NaN</td>\n      <td>37220,00</td>\n    </tr>\n    <tr>\n      <th>1</th>\n      <td>Vente</td>\n      <td>Appartement</td>\n      <td>1000.0</td>\n      <td>3.0</td>\n      <td>NaN</td>\n      <td>NaN</td>\n      <td>61,51</td>\n      <td>NaN</td>\n      <td>NaN</td>\n      <td>NaN</td>\n      <td>185100,00</td>\n    </tr>\n    <tr>\n      <th>2</th>\n      <td>Vente</td>\n      <td>Dépendance</td>\n      <td>1000.0</td>\n      <td>0.0</td>\n      <td>NaN</td>\n      <td>NaN</td>\n      <td>NaN</td>\n      <td>NaN</td>\n      <td>NaN</td>\n      <td>NaN</td>\n      <td>185100,00</td>\n    </tr>\n    <tr>\n      <th>3</th>\n      <td>Vente</td>\n      <td>Maison</td>\n      <td>1160.0</td>\n      <td>4.0</td>\n      <td>940.0</td>\n      <td>NaN</td>\n      <td>NaN</td>\n      <td>NaN</td>\n      <td>NaN</td>\n      <td>NaN</td>\n      <td>209000,00</td>\n    </tr>\n    <tr>\n      <th>4</th>\n      <td>Vente</td>\n      <td>Maison</td>\n      <td>1370.0</td>\n      <td>5.0</td>\n      <td>490.0</td>\n      <td>NaN</td>\n      <td>NaN</td>\n      <td>NaN</td>\n      <td>NaN</td>\n      <td>NaN</td>\n      <td>134900,00</td>\n    </tr>\n  </tbody>\n</table>\n</div>"
     },
     "metadata": {},
     "execution_count": 66
    }
   ],
   "source": [
    "df = abra.filter(['Nature mutation', 'Type local','Code postal','Nombre pieces principales', 'Surface terrain', 'Surface Carrez du 1er lot', 'Surface Carrez du 2eme lot', 'Surface Carrez du 3eme lot', 'Surface Carrez du 4eme lot', 'Surface Carrez du 5eme lot', 'Valeur fonciere'])\n",
    "df.head()"
   ]
  },
  {
   "cell_type": "code",
   "execution_count": 41,
   "metadata": {
    "tags": []
   },
   "outputs": [
    {
     "output_type": "stream",
     "name": "stdout",
     "text": "&lt;class &#39;pandas.core.frame.DataFrame&#39;&gt;\nRangeIndex: 2535791 entries, 0 to 2535790\nData columns (total 9 columns):\n #   Column                      Dtype  \n---  ------                      -----  \n 0   Code postal                 float64\n 1   Nombre pieces principales   float64\n 2   Surface terrain             float64\n 3   Surface Carrez du 1er lot   object \n 4   Surface Carrez du 2eme lot  object \n 5   Surface Carrez du 3eme lot  object \n 6   Surface Carrez du 4eme lot  object \n 7   Surface Carrez du 5eme lot  object \n 8   Valeur fonciere             object \ndtypes: float64(3), object(6)\nmemory usage: 174.1+ MB\n"
    }
   ],
   "source": [
    "\n",
    "final = df.info()"
   ]
  },
  {
   "cell_type": "code",
   "execution_count": 63,
   "metadata": {},
   "outputs": [
    {
     "output_type": "execute_result",
     "data": {
      "text/plain": "792958"
     },
     "metadata": {},
     "execution_count": 63
    }
   ],
   "source": [
    "nancount = df[\"Surface terrain\"]\n",
    "nancount.isna().sum()"
   ]
  },
  {
   "cell_type": "code",
   "execution_count": null,
   "metadata": {},
   "outputs": [],
   "source": []
  }
 ]
}