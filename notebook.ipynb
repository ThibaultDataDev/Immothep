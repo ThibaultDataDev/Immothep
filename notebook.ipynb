{
 "metadata": {
  "language_info": {
   "codemirror_mode": {
    "name": "ipython",
    "version": 3
   },
   "file_extension": ".py",
   "mimetype": "text/x-python",
   "name": "python",
   "nbconvert_exporter": "python",
   "pygments_lexer": "ipython3",
   "version": "3.8.5-final"
  },
  "orig_nbformat": 2,
  "kernelspec": {
   "name": "Python 3.8.5 64-bit ('data-ia': conda)",
   "display_name": "Python 3.8.5 64-bit ('data-ia': conda)",
   "metadata": {
    "interpreter": {
     "hash": "b521198ca28846cc1e62545e6db678c2facd12f800abaadb2702f6952f824412"
    }
   }
  }
 },
 "nbformat": 4,
 "nbformat_minor": 2,
 "cells": [
  {
   "cell_type": "code",
   "execution_count": 80,
   "metadata": {
    "tags": []
   },
   "outputs": [
    {
     "output_type": "stream",
     "name": "stdout",
     "text": "The autoreload extension is already loaded. To reload it, use:\n  %reload_ext autoreload\n"
    }
   ],
   "source": [
    "%load_ext autoreload\n",
    "%autoreload 2\n",
    "import pandas as pd\n",
    "import numpy as np\n",
    "from credentials import Credentials as cr\n",
    "import matplotlib as plt\n",
    "import os\n",
    "from split import Splitter\n",
    "\n",
    "splitter = Splitter()"
   ]
  },
  {
   "cell_type": "code",
   "execution_count": 85,
   "metadata": {
    "tags": []
   },
   "outputs": [
    {
     "output_type": "execute_result",
     "data": {
      "text/plain": "  Nature mutation Valeur fonciere  Code postal Surface Carrez du 1er lot  \\\n0           Vente        37220,00       1000.0                     19,27   \n1           Vente       185100,00       1000.0                       NaN   \n2           Vente       185100,00       1000.0                       NaN   \n3           Vente       209000,00       1160.0                       NaN   \n4           Vente       134900,00       1370.0                       NaN   \n\n  Surface Carrez du 2eme lot Surface Carrez du 3eme lot  \\\n0                        NaN                        NaN   \n1                      61,51                        NaN   \n2                        NaN                        NaN   \n3                        NaN                        NaN   \n4                        NaN                        NaN   \n\n  Surface Carrez du 4eme lot Surface Carrez du 5eme lot   Type local  \\\n0                        NaN                        NaN  Appartement   \n1                        NaN                        NaN  Appartement   \n2                        NaN                        NaN   Dépendance   \n3                        NaN                        NaN       Maison   \n4                        NaN                        NaN       Maison   \n\n   Nombre pieces principales  Surface terrain  \n0                        1.0              NaN  \n1                        3.0              NaN  \n2                        0.0              NaN  \n3                        4.0            940.0  \n4                        5.0            490.0  ",
      "text/html": "<div>\n<style scoped>\n    .dataframe tbody tr th:only-of-type {\n        vertical-align: middle;\n    }\n\n    .dataframe tbody tr th {\n        vertical-align: top;\n    }\n\n    .dataframe thead th {\n        text-align: right;\n    }\n</style>\n<table border=\"1\" class=\"dataframe\">\n  <thead>\n    <tr style=\"text-align: right;\">\n      <th></th>\n      <th>Nature mutation</th>\n      <th>Valeur fonciere</th>\n      <th>Code postal</th>\n      <th>Surface Carrez du 1er lot</th>\n      <th>Surface Carrez du 2eme lot</th>\n      <th>Surface Carrez du 3eme lot</th>\n      <th>Surface Carrez du 4eme lot</th>\n      <th>Surface Carrez du 5eme lot</th>\n      <th>Type local</th>\n      <th>Nombre pieces principales</th>\n      <th>Surface terrain</th>\n    </tr>\n  </thead>\n  <tbody>\n    <tr>\n      <th>0</th>\n      <td>Vente</td>\n      <td>37220,00</td>\n      <td>1000.0</td>\n      <td>19,27</td>\n      <td>NaN</td>\n      <td>NaN</td>\n      <td>NaN</td>\n      <td>NaN</td>\n      <td>Appartement</td>\n      <td>1.0</td>\n      <td>NaN</td>\n    </tr>\n    <tr>\n      <th>1</th>\n      <td>Vente</td>\n      <td>185100,00</td>\n      <td>1000.0</td>\n      <td>NaN</td>\n      <td>61,51</td>\n      <td>NaN</td>\n      <td>NaN</td>\n      <td>NaN</td>\n      <td>Appartement</td>\n      <td>3.0</td>\n      <td>NaN</td>\n    </tr>\n    <tr>\n      <th>2</th>\n      <td>Vente</td>\n      <td>185100,00</td>\n      <td>1000.0</td>\n      <td>NaN</td>\n      <td>NaN</td>\n      <td>NaN</td>\n      <td>NaN</td>\n      <td>NaN</td>\n      <td>Dépendance</td>\n      <td>0.0</td>\n      <td>NaN</td>\n    </tr>\n    <tr>\n      <th>3</th>\n      <td>Vente</td>\n      <td>209000,00</td>\n      <td>1160.0</td>\n      <td>NaN</td>\n      <td>NaN</td>\n      <td>NaN</td>\n      <td>NaN</td>\n      <td>NaN</td>\n      <td>Maison</td>\n      <td>4.0</td>\n      <td>940.0</td>\n    </tr>\n    <tr>\n      <th>4</th>\n      <td>Vente</td>\n      <td>134900,00</td>\n      <td>1370.0</td>\n      <td>NaN</td>\n      <td>NaN</td>\n      <td>NaN</td>\n      <td>NaN</td>\n      <td>NaN</td>\n      <td>Maison</td>\n      <td>5.0</td>\n      <td>490.0</td>\n    </tr>\n  </tbody>\n</table>\n</div>"
     },
     "metadata": {},
     "execution_count": 85
    }
   ],
   "source": [
    "valeurs2019 = pd.read_csv(cr.PATH+'2019.txt', sep='|', usecols=['Nature mutation', 'Type local','Code postal','Nombre pieces principales', 'Surface terrain', 'Surface Carrez du 1er lot', 'Surface Carrez du 2eme lot', 'Surface Carrez du 3eme lot', 'Surface Carrez du 4eme lot', 'Surface Carrez du 5eme lot', 'Valeur fonciere'])\n",
    "valeurs2019.head()"
   ]
  },
  {
   "cell_type": "code",
   "execution_count": null,
   "metadata": {},
   "outputs": [],
   "source": []
  },
  {
   "cell_type": "code",
   "execution_count": 86,
   "metadata": {
    "tags": []
   },
   "outputs": [
    {
     "output_type": "stream",
     "name": "stdout",
     "text": "792958  valeurs nulles /  1742833  valeurs totales.\n"
    }
   ],
   "source": [
    "nancount = df[\"Surface terrain\"].isna()\n",
    "print(nancount.sum(), ' valeurs nulles / ', valeurs2019[\"Surface terrain\"].count(), ' valeurs totales.')"
   ]
  },
  {
   "cell_type": "code",
   "execution_count": 88,
   "metadata": {},
   "outputs": [],
   "source": [
    "valeurs2019.to_csv(cr.CURATED_LOCAL_PATH + 'filtered2019.csv')"
   ]
  },
  {
   "cell_type": "code",
   "execution_count": 89,
   "metadata": {
    "tags": []
   },
   "outputs": [
    {
     "output_type": "stream",
     "name": "stdout",
     "text": "../data/CURATED/Vente.csv\n../data/CURATED/Echange.csv\n../data/CURATED/Vente terrain à bâtir.csv\n../data/CURATED/Vente en l&#39;état futur d&#39;achèvement.csv\n../data/CURATED/Adjudication.csv\n../data/CURATED/Expropriation.csv\n"
    }
   ],
   "source": [
    "splitter.split_datas('filtered2019.csv', 'Nature mutation')"
   ]
  },
  {
   "cell_type": "code",
   "execution_count": 90,
   "metadata": {
    "tags": []
   },
   "outputs": [
    {
     "output_type": "stream",
     "name": "stdout",
     "text": "../data/CURATED/Appartement.csv\n../data/CURATED/Dépendance.csv\n../data/CURATED/Maison.csv\n../data/CURATED/.csv\n../data/CURATED/Local industriel. commercial ou assimilé.csv\n"
    }
   ],
   "source": [
    "splitter.split_datas('filtered2019.csv', 'Type local')"
   ]
  },
  {
   "source": [],
   "cell_type": "markdown",
   "metadata": {}
  },
  {
   "cell_type": "code",
   "execution_count": null,
   "metadata": {},
   "outputs": [],
   "source": []
  }
 ]
}