{
 "metadata": {
  "language_info": {
   "codemirror_mode": {
    "name": "ipython",
    "version": 3
   },
   "file_extension": ".py",
   "mimetype": "text/x-python",
   "name": "python",
   "nbconvert_exporter": "python",
   "pygments_lexer": "ipython3",
   "version": "3.8.5-final"
  },
  "orig_nbformat": 2,
  "kernelspec": {
   "name": "Python 3.8.5 64-bit ('data-ia': conda)",
   "display_name": "Python 3.8.5 64-bit ('data-ia': conda)",
   "metadata": {
    "interpreter": {
     "hash": "b521198ca28846cc1e62545e6db678c2facd12f800abaadb2702f6952f824412"
    }
   }
  }
 },
 "nbformat": 4,
 "nbformat_minor": 2,
 "cells": [
  {
   "cell_type": "code",
   "execution_count": 38,
   "metadata": {
    "tags": []
   },
   "outputs": [],
   "source": [
    "%load_ext autoreload\n",
    "%autoreload 2\n",
    "import pandas as pd\n",
    "import numpy as np\n",
    "from credentials import Credentials as cr\n",
    "import os"
   ]
  },
  {
   "cell_type": "code",
   "execution_count": null,
   "metadata": {},
   "outputs": [],
   "source": [
    "abra = pd.read_csv(cr.PATH+'2019.txt', sep='|')\n",
    "kadabra = abra.info()\n",
    "print (kadabra)"
   ]
  },
  {
   "cell_type": "code",
   "execution_count": 36,
   "metadata": {},
   "outputs": [
    {
     "output_type": "execute_result",
     "data": {
      "text/plain": "   Code postal  Nombre pieces principales  Surface terrain  \\\n0       1000.0                        1.0              NaN   \n1       1000.0                        3.0              NaN   \n2       1000.0                        0.0              NaN   \n3       1160.0                        4.0            940.0   \n4       1370.0                        5.0            490.0   \n\n  Surface Carrez du 1er lot Surface Carrez du 2eme lot  \\\n0                     19,27                        NaN   \n1                       NaN                      61,51   \n2                       NaN                        NaN   \n3                       NaN                        NaN   \n4                       NaN                        NaN   \n\n  Surface Carrez du 3eme lot Surface Carrez du 4eme lot  \\\n0                        NaN                        NaN   \n1                        NaN                        NaN   \n2                        NaN                        NaN   \n3                        NaN                        NaN   \n4                        NaN                        NaN   \n\n  Surface Carrez du 5eme lot Valeur fonciere  \n0                        NaN        37220,00  \n1                        NaN       185100,00  \n2                        NaN       185100,00  \n3                        NaN       209000,00  \n4                        NaN       134900,00  ",
      "text/html": "<div>\n<style scoped>\n    .dataframe tbody tr th:only-of-type {\n        vertical-align: middle;\n    }\n\n    .dataframe tbody tr th {\n        vertical-align: top;\n    }\n\n    .dataframe thead th {\n        text-align: right;\n    }\n</style>\n<table border=\"1\" class=\"dataframe\">\n  <thead>\n    <tr style=\"text-align: right;\">\n      <th></th>\n      <th>Code postal</th>\n      <th>Nombre pieces principales</th>\n      <th>Surface terrain</th>\n      <th>Surface Carrez du 1er lot</th>\n      <th>Surface Carrez du 2eme lot</th>\n      <th>Surface Carrez du 3eme lot</th>\n      <th>Surface Carrez du 4eme lot</th>\n      <th>Surface Carrez du 5eme lot</th>\n      <th>Valeur fonciere</th>\n    </tr>\n  </thead>\n  <tbody>\n    <tr>\n      <th>0</th>\n      <td>1000.0</td>\n      <td>1.0</td>\n      <td>NaN</td>\n      <td>19,27</td>\n      <td>NaN</td>\n      <td>NaN</td>\n      <td>NaN</td>\n      <td>NaN</td>\n      <td>37220,00</td>\n    </tr>\n    <tr>\n      <th>1</th>\n      <td>1000.0</td>\n      <td>3.0</td>\n      <td>NaN</td>\n      <td>NaN</td>\n      <td>61,51</td>\n      <td>NaN</td>\n      <td>NaN</td>\n      <td>NaN</td>\n      <td>185100,00</td>\n    </tr>\n    <tr>\n      <th>2</th>\n      <td>1000.0</td>\n      <td>0.0</td>\n      <td>NaN</td>\n      <td>NaN</td>\n      <td>NaN</td>\n      <td>NaN</td>\n      <td>NaN</td>\n      <td>NaN</td>\n      <td>185100,00</td>\n    </tr>\n    <tr>\n      <th>3</th>\n      <td>1160.0</td>\n      <td>4.0</td>\n      <td>940.0</td>\n      <td>NaN</td>\n      <td>NaN</td>\n      <td>NaN</td>\n      <td>NaN</td>\n      <td>NaN</td>\n      <td>209000,00</td>\n    </tr>\n    <tr>\n      <th>4</th>\n      <td>1370.0</td>\n      <td>5.0</td>\n      <td>490.0</td>\n      <td>NaN</td>\n      <td>NaN</td>\n      <td>NaN</td>\n      <td>NaN</td>\n      <td>NaN</td>\n      <td>134900,00</td>\n    </tr>\n  </tbody>\n</table>\n</div>"
     },
     "metadata": {},
     "execution_count": 36
    }
   ],
   "source": [
    "df = abra.filter(['Code postal','Nombre pieces principales', 'Surface terrain', 'Surface Carrez du 1er lot', 'Surface Carrez du 2eme lot', 'Surface Carrez du 3eme lot', 'Surface Carrez du 4eme lot', 'Surface Carrez du 5eme lot', 'Valeur fonciere'])\n",
    "df.head()"
   ]
  },
  {
   "cell_type": "code",
   "execution_count": 37,
   "metadata": {
    "tags": []
   },
   "outputs": [
    {
     "output_type": "stream",
     "name": "stdout",
     "text": "&lt;class &#39;pandas.core.frame.DataFrame&#39;&gt;\nRangeIndex: 2535791 entries, 0 to 2535790\nData columns (total 9 columns):\n #   Column                      Dtype  \n---  ------                      -----  \n 0   Code postal                 float64\n 1   Nombre pieces principales   float64\n 2   Surface terrain             float64\n 3   Surface Carrez du 1er lot   object \n 4   Surface Carrez du 2eme lot  object \n 5   Surface Carrez du 3eme lot  object \n 6   Surface Carrez du 4eme lot  object \n 7   Surface Carrez du 5eme lot  object \n 8   Valeur fonciere             object \ndtypes: float64(3), object(6)\nmemory usage: 174.1+ MB\n"
    }
   ],
   "source": [
    "#dropdup = df.drop_duplicates()\n",
    "final = df.info()"
   ]
  },
  {
   "cell_type": "code",
   "execution_count": null,
   "metadata": {},
   "outputs": [],
   "source": []
  }
 ]
}