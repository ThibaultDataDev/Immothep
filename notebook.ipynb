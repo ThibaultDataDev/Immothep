{
 "cells": [
  {
   "cell_type": "code",
   "execution_count": 1,
   "metadata": {
    "tags": []
   },
   "outputs": [],
   "source": [
    "%load_ext autoreload\n",
    "%autoreload 2\n",
    "import pandas as pd\n",
    "import numpy as np\n",
    "import seaborn as sn\n",
    "import matplotlib\n",
    "import matplotlib.pyplot as plt\n",
    "from credentials import Credentials as cr\n",
    "from prediction import ImmothepPrediction\n",
    "import os\n",
    "from split import Splitter\n",
    "from sklearn.ensemble import IsolationForest\n",
    "\n",
    "splitter = Splitter()\n",
    "predictor = ImmothepPrediction()"
   ]
  },
  {
   "cell_type": "markdown",
   "metadata": {},
   "source": [
    "## Création et import du jeu de données principal"
   ]
  },
  {
   "cell_type": "code",
   "execution_count": null,
   "metadata": {
    "tags": []
   },
   "outputs": [],
   "source": [
    "valeurs2019 = pd.read_csv(cr.PATH+'2019.txt', sep='|', usecols=['Nature mutation', 'Code postal','Nombre pieces principales', 'Surface terrain', 'Surface Carrez du 1er lot', 'Surface Carrez du 2eme lot', 'Surface Carrez du 3eme lot', 'Surface Carrez du 4eme lot', 'Surface Carrez du 5eme lot', 'Valeur fonciere', 'Type local', 'Nombre de lots'], encoding='utf-8')\n",
    "\n",
    "valeurs2019 = valeurs2019.dropna(subset = ['Type local', 'Nombre de lots', 'Nombre pieces principales', \"Nature mutation\"])\n",
    "\n",
    "valeurs2019['Surface terrain'][valeurs2019['Type local'].str.contains(\"Appartement\", regex=True)] = valeurs2019['Surface terrain'][valeurs2019['Type local'].str.contains(\"Appartement\", regex=True)].fillna(0) \n",
    "\n",
    "valeurs2019 = valeurs2019[['Code postal', 'Nombre pieces principales', 'Surface terrain', 'Surface Carrez du 1er lot', 'Surface Carrez du 2eme lot', 'Surface Carrez du 3eme lot', 'Surface Carrez du 4eme lot', 'Surface Carrez du 5eme lot', 'Valeur fonciere']][valeurs2019['Type local'].str.contains(\"Appartement|Maison\", regex=True)][valeurs2019['Nature mutation'].str.contains(\"Vente\", regex=True)][valeurs2019['Nombre de lots']<6][valeurs2019['Nombre pieces principales']>0]\n",
    "\n",
    "valeurs2019.head()"
   ]
  },
  {
   "cell_type": "markdown",
   "metadata": {},
   "source": []
  },
  {
   "cell_type": "code",
   "execution_count": null,
   "metadata": {
    "tags": []
   },
   "outputs": [],
   "source": [
    "# Vérification du ratio de valeurs nulles en vue de nettoyer les données.\n",
    "\n",
    "nancount = valeurs2019[\"Valeur fonciere\"].isna()\n",
    "print (\"Il y a \", nancount.sum(), \" valeurs nulles dans la colonne \\'Valeur Foncière\\'.\")\n",
    "valeurs2019 = valeurs2019.dropna(subset = ['Valeur fonciere'])\n",
    "nancount = valeurs2019[\"Valeur fonciere\"].isna()\n",
    "print (\"Il y a \", nancount.sum(), \" valeurs nulles dans la colonne \\'Valeur Foncière\\'.\")\n",
    "\n",
    "nancount = valeurs2019[\"Code postal\"].isna()\n",
    "print (\"Il y a \", nancount.sum(), \" valeurs nulles dans la colonne \\'Code postal\\'.\")\n",
    "valeurs2019 = valeurs2019.dropna(subset = ['Code postal'])\n",
    "nancount = valeurs2019[\"Code postal\"].isna()\n",
    "print (\"Il y a \", nancount.sum(), \" valeurs nulles dans la colonne \\'Code postal\\'.\")\n"
   ]
  },
  {
   "cell_type": "code",
   "execution_count": null,
   "metadata": {
    "tags": []
   },
   "outputs": [],
   "source": [
    "valeurs2019.info()"
   ]
  },
  {
   "cell_type": "code",
   "execution_count": null,
   "metadata": {},
   "outputs": [],
   "source": [
    "valeurs2019[['Valeur fonciere', 'Surface Carrez du 1er lot', 'Surface Carrez du 2eme lot', 'Surface Carrez du 3eme lot', 'Surface Carrez du 4eme lot', 'Surface Carrez du 5eme lot']] = valeurs2019[['Valeur fonciere', 'Surface Carrez du 1er lot', 'Surface Carrez du 2eme lot', 'Surface Carrez du 3eme lot', 'Surface Carrez du 4eme lot', 'Surface Carrez du 5eme lot']].replace(',', '.', regex=True)\n",
    "\n",
    "valeurs2019[['Valeur fonciere', 'Surface Carrez du 1er lot', 'Surface Carrez du 2eme lot', 'Surface Carrez du 3eme lot', 'Surface Carrez du 4eme lot', 'Surface Carrez du 5eme lot']]  = valeurs2019[['Valeur fonciere', 'Surface Carrez du 1er lot', 'Surface Carrez du 2eme lot', 'Surface Carrez du 3eme lot', 'Surface Carrez du 4eme lot', 'Surface Carrez du 5eme lot']].astype('float')"
   ]
  },
  {
   "cell_type": "code",
   "execution_count": null,
   "metadata": {
    "tags": []
   },
   "outputs": [],
   "source": [
    "valeurs2019.info()"
   ]
  },
  {
   "cell_type": "code",
   "execution_count": null,
   "metadata": {},
   "outputs": [],
   "source": [
    "corrMatrix = valeurs2019.corr()\n",
    "sn.heatmap(corrMatrix, annot=True)\n",
    "plt.show()"
   ]
  },
  {
   "cell_type": "code",
   "execution_count": null,
   "metadata": {},
   "outputs": [],
   "source": [
    "valeurs2019 = valeurs2019[valeurs2019['Valeur fonciere']>200]"
   ]
  },
  {
   "cell_type": "code",
   "execution_count": null,
   "metadata": {
    "tags": []
   },
   "outputs": [],
   "source": [
    "nancount = valeurs2019[\"Surface terrain\"].isna()\n",
    "print (\"Il y a \", nancount.sum(), \" valeurs nulles dans la colonne \\'Surface Terrain\\'.\")\n",
    "valeurs2019 = valeurs2019.dropna(subset = ['Surface terrain'])\n",
    "\n",
    "nancount = valeurs2019[\"Surface terrain\"].isna()\n",
    "print (\"Il y a \", nancount.sum(), \" valeurs nulles dans la colonne \\'Surface Terrain\\'.\")\n",
    "\n",
    "valeurs2019 = valeurs2019.fillna(0)"
   ]
  },
  {
   "cell_type": "code",
   "execution_count": null,
   "metadata": {},
   "outputs": [],
   "source": [
    "corrMatrix = valeurs2019.corr()\n",
    "sn.heatmap(corrMatrix, annot=True)\n",
    "plt.show()"
   ]
  },
  {
   "cell_type": "markdown",
   "metadata": {},
   "source": [
    "Test de la prédiction de la valeur foncière sur l'élémant d'index 5 de valeurs2019"
   ]
  },
  {
   "cell_type": "code",
   "execution_count": null,
   "metadata": {},
   "outputs": [],
   "source": [
    "predictor = ImmothepPrediction()\n",
    "\n",
    "try:\n",
    "    result = predictor.predict(valeurs2019, 5)\n",
    "except : \n",
    "    print('Elément non trouvé.')"
   ]
  },
  {
   "cell_type": "markdown",
   "metadata": {},
   "source": [
    "### Modification du modèle avec méthode d'entraînement et méthode de test"
   ]
  },
  {
   "cell_type": "code",
   "execution_count": null,
   "metadata": {},
   "outputs": [],
   "source": [
    "modele, scaler, lab_enc = predictor.entrainementLR(valeurs2019)\n",
    "\n",
    "result = predictor.predictionLR(valeurs2019[valeurs2019.index==693], modele, scaler, lab_enc)"
   ]
  },
  {
   "cell_type": "code",
   "execution_count": null,
   "metadata": {},
   "outputs": [],
   "source": [
    "predictor.predictionLR(valeurs2019[valeurs2019.index==10], modele, scaler, lab_enc)"
   ]
  },
  {
   "cell_type": "markdown",
   "metadata": {},
   "source": [
    "### Modification du dataset pour rendre la prédiction plus précise"
   ]
  },
  {
   "cell_type": "code",
   "execution_count": null,
   "metadata": {},
   "outputs": [],
   "source": [
    "valeurs2019.plot.scatter(\"Surface terrain\", \"Valeur fonciere\")"
   ]
  },
  {
   "cell_type": "code",
   "execution_count": null,
   "metadata": {},
   "outputs": [],
   "source": [
    "valeurs2019 = valeurs2019[valeurs2019['Valeur fonciere']<60000000]\n",
    "valeurs2019 = valeurs2019[valeurs2019['Surface terrain']<400000]"
   ]
  },
  {
   "cell_type": "code",
   "execution_count": null,
   "metadata": {},
   "outputs": [],
   "source": [
    "valeurs2019.plot.scatter(\"Surface terrain\", \"Valeur fonciere\")"
   ]
  },
  {
   "cell_type": "markdown",
   "metadata": {},
   "source": [
    "### Nouveau test de prédiction"
   ]
  },
  {
   "cell_type": "code",
   "execution_count": null,
   "metadata": {},
   "outputs": [],
   "source": [
    "modele, scaler, lab_enc = predictor.entrainementLR(valeurs2019)"
   ]
  },
  {
   "cell_type": "code",
   "execution_count": null,
   "metadata": {},
   "outputs": [],
   "source": [
    "predictor.predictionLR(valeurs2019[valeurs2019.index==5], modele, scaler, lab_enc)"
   ]
  },
  {
   "cell_type": "code",
   "execution_count": null,
   "metadata": {},
   "outputs": [],
   "source": [
    "predictor.predict(valeurs2019, 5)"
   ]
  },
  {
   "cell_type": "code",
   "execution_count": null,
   "metadata": {},
   "outputs": [],
   "source": [
    "predictor.predict(valeurs2019, 693)"
   ]
  },
  {
   "cell_type": "code",
   "execution_count": null,
   "metadata": {},
   "outputs": [],
   "source": [
    "predictor.predictionLR(valeurs2019[valeurs2019.index==693], modele, scaler, lab_enc)"
   ]
  },
  {
   "cell_type": "markdown",
   "metadata": {},
   "source": [
    "### Export du premier dataset de travail"
   ]
  },
  {
   "cell_type": "code",
   "execution_count": null,
   "metadata": {},
   "outputs": [],
   "source": [
    "valeurs2019.to_csv(cr.CURATED_LOCAL_PATH + 'filtered2019.csv', index=False)"
   ]
  },
  {
   "cell_type": "markdown",
   "metadata": {},
   "source": [
    "## Création d'un nouveau dataset avec des attributs différents"
   ]
  },
  {
   "cell_type": "code",
   "execution_count": 7,
   "metadata": {},
   "outputs": [
    {
     "output_type": "execute_result",
     "data": {
      "text/plain": [
       "    Type local  Code postal  Nombre pieces principales  Surface terrain  \\\n",
       "0  Appartement       1000.0                        1.0              0.0   \n",
       "3       Maison       1160.0                        4.0            940.0   \n",
       "4       Maison       1370.0                        5.0            490.0   \n",
       "5       Maison       1340.0                        4.0            708.0   \n",
       "6       Maison       1250.0                        2.0            631.0   \n",
       "\n",
       "   Surface reelle bati Valeur fonciere  \n",
       "0                 20.0        37220,00  \n",
       "3                 90.0       209000,00  \n",
       "4                101.0       134900,00  \n",
       "5                 88.0       192000,00  \n",
       "6                 39.0        45000,00  "
      ],
      "text/html": "<div>\n<style scoped>\n    .dataframe tbody tr th:only-of-type {\n        vertical-align: middle;\n    }\n\n    .dataframe tbody tr th {\n        vertical-align: top;\n    }\n\n    .dataframe thead th {\n        text-align: right;\n    }\n</style>\n<table border=\"1\" class=\"dataframe\">\n  <thead>\n    <tr style=\"text-align: right;\">\n      <th></th>\n      <th>Type local</th>\n      <th>Code postal</th>\n      <th>Nombre pieces principales</th>\n      <th>Surface terrain</th>\n      <th>Surface reelle bati</th>\n      <th>Valeur fonciere</th>\n    </tr>\n  </thead>\n  <tbody>\n    <tr>\n      <th>0</th>\n      <td>Appartement</td>\n      <td>1000.0</td>\n      <td>1.0</td>\n      <td>0.0</td>\n      <td>20.0</td>\n      <td>37220,00</td>\n    </tr>\n    <tr>\n      <th>3</th>\n      <td>Maison</td>\n      <td>1160.0</td>\n      <td>4.0</td>\n      <td>940.0</td>\n      <td>90.0</td>\n      <td>209000,00</td>\n    </tr>\n    <tr>\n      <th>4</th>\n      <td>Maison</td>\n      <td>1370.0</td>\n      <td>5.0</td>\n      <td>490.0</td>\n      <td>101.0</td>\n      <td>134900,00</td>\n    </tr>\n    <tr>\n      <th>5</th>\n      <td>Maison</td>\n      <td>1340.0</td>\n      <td>4.0</td>\n      <td>708.0</td>\n      <td>88.0</td>\n      <td>192000,00</td>\n    </tr>\n    <tr>\n      <th>6</th>\n      <td>Maison</td>\n      <td>1250.0</td>\n      <td>2.0</td>\n      <td>631.0</td>\n      <td>39.0</td>\n      <td>45000,00</td>\n    </tr>\n  </tbody>\n</table>\n</div>"
     },
     "metadata": {},
     "execution_count": 7
    }
   ],
   "source": [
    "valeurs2019 = pd.read_csv(cr.PATH+'2019.txt', sep='|', usecols=['Nature mutation', 'Code postal','Nombre pieces principales', 'Surface terrain', 'Surface reelle bati', 'Valeur fonciere', 'Type local', 'Nombre de lots'], encoding='utf-8')\n",
    "\n",
    "valeurs2019 = valeurs2019.dropna(subset = ['Type local', 'Nombre de lots', 'Nombre pieces principales', 'Nature mutation', 'Surface reelle bati'])\n",
    "\n",
    "valeurs2019['Surface terrain'][valeurs2019['Type local'].str.contains(\"Appartement\", regex=True)] = valeurs2019['Surface terrain'][valeurs2019['Type local'].str.contains(\"Appartement\", regex=True)].fillna(0) \n",
    "\n",
    "valeurs2019 = valeurs2019[['Type local', 'Code postal', 'Nombre pieces principales', 'Surface terrain', 'Surface reelle bati', 'Valeur fonciere']][valeurs2019['Type local'].str.contains(\"Appartement|Maison\", regex=True)][valeurs2019['Nature mutation'].str.contains(\"Vente\", regex=True)][valeurs2019['Nombre de lots']<2][valeurs2019['Nombre pieces principales']>0]\n",
    "\n",
    "valeurs2019.head()\n"
   ]
  },
  {
   "cell_type": "code",
   "execution_count": 8,
   "metadata": {},
   "outputs": [
    {
     "output_type": "stream",
     "name": "stdout",
     "text": [
      "Il y a  3531  valeurs nulles dans la colonne 'Valeur Foncière'.\n",
      "Il y a  0  valeurs nulles dans la colonne 'Valeur Foncière'.\n",
      "Il y a  51  valeurs nulles dans la colonne 'Code postal'.\n",
      "Il y a  0  valeurs nulles dans la colonne 'Code postal'.\n"
     ]
    }
   ],
   "source": [
    "# Vérification du ratio de valeurs nulles en vue de nettoyer les données.\n",
    "\n",
    "nancount = valeurs2019[\"Valeur fonciere\"].isna()\n",
    "print (\"Il y a \", nancount.sum(), \" valeurs nulles dans la colonne \\'Valeur Foncière\\'.\")\n",
    "valeurs2019 = valeurs2019.dropna(subset = ['Valeur fonciere'])\n",
    "nancount = valeurs2019[\"Valeur fonciere\"].isna()\n",
    "print (\"Il y a \", nancount.sum(), \" valeurs nulles dans la colonne \\'Valeur Foncière\\'.\")\n",
    "\n",
    "nancount = valeurs2019[\"Code postal\"].isna()\n",
    "print (\"Il y a \", nancount.sum(), \" valeurs nulles dans la colonne \\'Code postal\\'.\")\n",
    "valeurs2019 = valeurs2019.dropna(subset = ['Code postal'])\n",
    "nancount = valeurs2019[\"Code postal\"].isna()\n",
    "print (\"Il y a \", nancount.sum(), \" valeurs nulles dans la colonne \\'Code postal\\'.\")\n"
   ]
  },
  {
   "cell_type": "code",
   "execution_count": 9,
   "metadata": {},
   "outputs": [
    {
     "output_type": "stream",
     "name": "stdout",
     "text": [
      "<class 'pandas.core.frame.DataFrame'>\nInt64Index: 788108 entries, 0 to 2535786\nData columns (total 6 columns):\n #   Column                     Non-Null Count   Dtype  \n---  ------                     --------------   -----  \n 0   Type local                 788108 non-null  object \n 1   Code postal                788108 non-null  float64\n 2   Nombre pieces principales  788108 non-null  float64\n 3   Surface terrain            768808 non-null  float64\n 4   Surface reelle bati        788108 non-null  float64\n 5   Valeur fonciere            788108 non-null  object \ndtypes: float64(4), object(2)\nmemory usage: 42.1+ MB\n"
     ]
    }
   ],
   "source": [
    "valeurs2019.info()"
   ]
  },
  {
   "cell_type": "code",
   "execution_count": 10,
   "metadata": {},
   "outputs": [],
   "source": [
    "valeurs2019[['Valeur fonciere']] = valeurs2019[['Valeur fonciere']].replace(',', '.', regex=True)\n",
    "\n",
    "valeurs2019[['Valeur fonciere']]  = valeurs2019[['Valeur fonciere']].astype('float')"
   ]
  },
  {
   "cell_type": "code",
   "execution_count": 11,
   "metadata": {},
   "outputs": [
    {
     "output_type": "stream",
     "name": "stdout",
     "text": [
      "Il y a  0  valeurs nulles dans la colonne 'Surface Terrain'.\n",
      "Il y a  0  valeurs nulles dans la colonne 'Surface Terrain'.\n"
     ]
    }
   ],
   "source": [
    "valeurs2019 = valeurs2019[valeurs2019['Valeur fonciere']>10000]\n",
    "valeurs2019 = valeurs2019[valeurs2019['Valeur fonciere']<60000000]\n",
    "valeurs2019 = valeurs2019[valeurs2019['Surface terrain']<400000]\n",
    "\n",
    "nancount = valeurs2019[\"Surface terrain\"].isna()\n",
    "print (\"Il y a \", nancount.sum(), \" valeurs nulles dans la colonne \\'Surface Terrain\\'.\")\n",
    "valeurs2019 = valeurs2019.dropna(subset = ['Surface terrain'])\n",
    "nancount = valeurs2019[\"Surface terrain\"].isna()\n",
    "print (\"Il y a \", nancount.sum(), \" valeurs nulles dans la colonne \\'Surface Terrain\\'.\")"
   ]
  },
  {
   "cell_type": "code",
   "execution_count": 13,
   "metadata": {},
   "outputs": [],
   "source": [
    "maisons2019=valeurs2019[['Code postal', 'Nombre pieces principales', 'Surface terrain', 'Surface reelle bati', 'Valeur fonciere']][valeurs2019['Type local'].str.contains(\"Maison\", regex=True)].reset_index(drop=True)\n",
    "\n",
    "appart2019=valeurs2019[['Code postal', 'Nombre pieces principales', 'Surface terrain', 'Surface reelle bati', 'Valeur fonciere']][valeurs2019['Type local'].str.contains(\"Appartement\", regex=True)][valeurs2019['Surface reelle bati']>9].reset_index(drop=True)"
   ]
  },
  {
   "cell_type": "code",
   "execution_count": 14,
   "metadata": {},
   "outputs": [
    {
     "output_type": "stream",
     "name": "stdout",
     "text": [
      "        Code postal  Nombre pieces principales  Surface terrain  \\\n46           1960.0                        6.0           2999.0   \n106          1440.0                        3.0           3875.0   \n128          1190.0                        1.0            115.0   \n140          1560.0                        1.0            813.0   \n141          1560.0                        1.0           1154.0   \n...             ...                        ...              ...   \n485495      75019.0                        5.0            147.0   \n485496      75020.0                        2.0             43.0   \n485497      75020.0                        4.0             63.0   \n485498      75020.0                        4.0            503.0   \n485499      75019.0                        4.0            177.0   \n\n        Surface reelle bati  Valeur fonciere    scores  anomaly  \n46                    140.0         702200.0 -0.089467       -1  \n106                    95.0        2040000.0 -0.285948       -1  \n128                    50.0          30000.0 -0.008347       -1  \n140                    60.0          28000.0 -0.015691       -1  \n141                    60.0          28000.0 -0.015691       -1  \n...                     ...              ...       ...      ...  \n485495                 99.0        1450000.0 -0.247061       -1  \n485496                 44.0         669000.0 -0.083739       -1  \n485497                 50.0        1099760.0 -0.186489       -1  \n485498                 82.0        7100000.0 -0.348394       -1  \n485499                144.0        1815000.0 -0.278012       -1  \n\n[56426 rows x 7 columns]\n"
     ]
    }
   ],
   "source": [
    "import numpy as np\n",
    "import pandas as pd\n",
    "import seaborn as sns\n",
    "import matplotlib.pyplot as plt\n",
    "from sklearn.ensemble import IsolationForest\n",
    "\n",
    "\n",
    "df1 = maisons2019\n",
    "df2 = appart2019\n",
    "\n",
    "\n",
    "model = IsolationForest(n_estimators = 100, max_samples = 'auto', contamination = 'auto', max_features = 1)\n",
    "model.fit(df1[['Valeur fonciere']])\n",
    "\n",
    "\n",
    "df1['scores'] = model.decision_function(df1[['Valeur fonciere']])\n",
    "df1['anomaly'] = model.predict(df1[['Valeur fonciere']])\n",
    "\n",
    "\n",
    "anomaly=df1.loc[df1['anomaly'] == -1]\n",
    "anomaly_index = list(anomaly.index)\n",
    "print(anomaly)"
   ]
  },
  {
   "cell_type": "code",
   "execution_count": 28,
   "metadata": {},
   "outputs": [
    {
     "output_type": "stream",
     "name": "stdout",
     "text": [
      "        Code postal  Nombre pieces principales  Surface terrain  \\\n0            1160.0                        4.0            940.0   \n1            1370.0                        5.0            490.0   \n2            1340.0                        4.0            708.0   \n3            1250.0                        2.0            631.0   \n4            1560.0                        1.0           2103.0   \n...             ...                        ...              ...   \n485495      75019.0                        5.0            147.0   \n485496      75020.0                        2.0             43.0   \n485497      75020.0                        4.0             63.0   \n485498      75020.0                        4.0            503.0   \n485499      75019.0                        4.0            177.0   \n\n        Surface reelle bati  Valeur fonciere    scores  anomaly_x  anomaly_y  \n0                      90.0         209000.0  0.105276          1        NaN  \n1                     101.0         134900.0  0.105070          1        NaN  \n2                      88.0         192000.0  0.098723          1        NaN  \n3                      39.0          45000.0  0.030563          1        NaN  \n4                     100.0         116000.0  0.099208          1        NaN  \n...                     ...              ...       ...        ...        ...  \n485495                 99.0        1450000.0 -0.247061         -1       -1.0  \n485496                 44.0         669000.0 -0.083739         -1       -1.0  \n485497                 50.0        1099760.0 -0.186489         -1       -1.0  \n485498                 82.0        7100000.0 -0.348394         -1       -1.0  \n485499                144.0        1815000.0 -0.278012         -1       -1.0  \n\n[485500 rows x 8 columns]\n"
     ]
    }
   ],
   "source": [
    "maisonsmerge = df1.merge(anomaly[\"anomaly\"], how=\"left\", right_index=True, left_index=True)\n",
    "print (maisonsmerge2)"
   ]
  },
  {
   "cell_type": "code",
   "execution_count": 34,
   "metadata": {},
   "outputs": [
    {
     "output_type": "stream",
     "name": "stdout",
     "text": [
      "        Code postal  Nombre pieces principales  Surface terrain  \\\n0            1160.0                        4.0            940.0   \n1            1370.0                        5.0            490.0   \n2            1340.0                        4.0            708.0   \n3            1250.0                        2.0            631.0   \n4            1560.0                        1.0           2103.0   \n...             ...                        ...              ...   \n485377      97430.0                        4.0            249.0   \n485379      97414.0                        5.0            507.0   \n485380      97421.0                        6.0            210.0   \n485400      75013.0                        3.0             51.0   \n485410      75014.0                        5.0             77.0   \n\n        Surface reelle bati  Valeur fonciere  \n0                      90.0         209000.0  \n1                     101.0         134900.0  \n2                      88.0         192000.0  \n3                      39.0          45000.0  \n4                     100.0         116000.0  \n...                     ...              ...  \n485377                108.0         159000.0  \n485379                 84.0         360000.0  \n485380                 87.0          85600.0  \n485400                 79.0         280000.0  \n485410                100.0         263000.0  \n\n[429074 rows x 5 columns]\n"
     ]
    }
   ],
   "source": [
    "maisonsintermediaire = maisonsmerge.drop(maisonsmerge[(maisonsmerge.anomaly_x == -1) & (maisonsmerge2.anomaly_y == -1)].index)\n",
    "maisonsfinal = maisonsintermediaire.drop(['scores', 'anomaly_x', 'anomaly_y'], axis=1)\n",
    "print (maisonsfinal)\n"
   ]
  },
  {
   "cell_type": "code",
   "execution_count": 35,
   "metadata": {},
   "outputs": [
    {
     "output_type": "display_data",
     "data": {
      "text/plain": "<Figure size 432x288 with 2 Axes>",
      "image/svg+xml": "<?xml version=\"1.0\" encoding=\"utf-8\" standalone=\"no\"?>\r\n<!DOCTYPE svg PUBLIC \"-//W3C//DTD SVG 1.1//EN\"\r\n  \"http://www.w3.org/Graphics/SVG/1.1/DTD/svg11.dtd\">\r\n<!-- Created with matplotlib (https://matplotlib.org/) -->\r\n<svg height=\"375.332969pt\" version=\"1.1\" viewBox=\"0 0 472.448875 375.332969\" width=\"472.448875pt\" xmlns=\"http://www.w3.org/2000/svg\" xmlns:xlink=\"http://www.w3.org/1999/xlink\">\r\n <metadata>\r\n  <rdf:RDF xmlns:cc=\"http://creativecommons.org/ns#\" xmlns:dc=\"http://purl.org/dc/elements/1.1/\" xmlns:rdf=\"http://www.w3.org/1999/02/22-rdf-syntax-ns#\">\r\n   <cc:Work>\r\n    <dc:type rdf:resource=\"http://purl.org/dc/dcmitype/StillImage\"/>\r\n    <dc:date>2020-10-14T13:29:12.706338</dc:date>\r\n    <dc:format>image/svg+xml</dc:format>\r\n    <dc:creator>\r\n     <cc:Agent>\r\n      <dc:title>Matplotlib v3.3.1, https://matplotlib.org/</dc:title>\r\n     </cc:Agent>\r\n    </dc:creator>\r\n   </cc:Work>\r\n  </rdf:RDF>\r\n </metadata>\r\n <defs>\r\n  <style type=\"text/css\">*{stroke-linecap:butt;stroke-linejoin:round;}</style>\r\n </defs>\r\n <g id=\"figure_1\">\r\n  <g id=\"patch_1\">\r\n   <path d=\"M 0 375.332969 \r\nL 472.448875 375.332969 \r\nL 472.448875 0 \r\nL 0 0 \r\nz\r\n\" style=\"fill:none;\"/>\r\n  </g>\r\n  <g id=\"axes_1\">\r\n   <g id=\"patch_2\">\r\n    <path d=\"M 146.89375 228.439219 \r\nL 414.73375 228.439219 \r\nL 414.73375 10.999219 \r\nL 146.89375 10.999219 \r\nz\r\n\" style=\"fill:#ffffff;\"/>\r\n   </g>\r\n   <g id=\"QuadMesh_1\">\r\n    <path clip-path=\"url(#p7b0740ca30)\" d=\"M 146.89375 10.999219 \r\nL 200.46175 10.999219 \r\nL 200.46175 54.487219 \r\nL 146.89375 54.487219 \r\nL 146.89375 10.999219 \r\n\" style=\"fill:#faebdd;\"/>\r\n    <path clip-path=\"url(#p7b0740ca30)\" d=\"M 200.46175 10.999219 \r\nL 254.02975 10.999219 \r\nL 254.02975 54.487219 \r\nL 200.46175 54.487219 \r\nL 200.46175 10.999219 \r\n\" style=\"fill:#110c24;\"/>\r\n    <path clip-path=\"url(#p7b0740ca30)\" d=\"M 254.02975 10.999219 \r\nL 307.59775 10.999219 \r\nL 307.59775 54.487219 \r\nL 254.02975 54.487219 \r\nL 254.02975 10.999219 \r\n\" style=\"fill:#04051a;\"/>\r\n    <path clip-path=\"url(#p7b0740ca30)\" d=\"M 307.59775 10.999219 \r\nL 361.16575 10.999219 \r\nL 361.16575 54.487219 \r\nL 307.59775 54.487219 \r\nL 307.59775 10.999219 \r\n\" style=\"fill:#03051a;\"/>\r\n    <path clip-path=\"url(#p7b0740ca30)\" d=\"M 361.16575 10.999219 \r\nL 414.73375 10.999219 \r\nL 414.73375 54.487219 \r\nL 361.16575 54.487219 \r\nL 361.16575 10.999219 \r\n\" style=\"fill:#30173a;\"/>\r\n    <path clip-path=\"url(#p7b0740ca30)\" d=\"M 146.89375 54.487219 \r\nL 200.46175 54.487219 \r\nL 200.46175 97.975219 \r\nL 146.89375 97.975219 \r\nL 146.89375 54.487219 \r\n\" style=\"fill:#110c24;\"/>\r\n    <path clip-path=\"url(#p7b0740ca30)\" d=\"M 200.46175 54.487219 \r\nL 254.02975 54.487219 \r\nL 254.02975 97.975219 \r\nL 200.46175 97.975219 \r\nL 200.46175 54.487219 \r\n\" style=\"fill:#faebdd;\"/>\r\n    <path clip-path=\"url(#p7b0740ca30)\" d=\"M 254.02975 54.487219 \r\nL 307.59775 54.487219 \r\nL 307.59775 97.975219 \r\nL 254.02975 97.975219 \r\nL 254.02975 54.487219 \r\n\" style=\"fill:#110c24;\"/>\r\n    <path clip-path=\"url(#p7b0740ca30)\" d=\"M 307.59775 54.487219 \r\nL 361.16575 54.487219 \r\nL 361.16575 97.975219 \r\nL 307.59775 97.975219 \r\nL 307.59775 54.487219 \r\n\" style=\"fill:#f3734e;\"/>\r\n    <path clip-path=\"url(#p7b0740ca30)\" d=\"M 361.16575 54.487219 \r\nL 414.73375 54.487219 \r\nL 414.73375 97.975219 \r\nL 361.16575 97.975219 \r\nL 361.16575 54.487219 \r\n\" style=\"fill:#7a1f59;\"/>\r\n    <path clip-path=\"url(#p7b0740ca30)\" d=\"M 146.89375 97.975219 \r\nL 200.46175 97.975219 \r\nL 200.46175 141.463219 \r\nL 146.89375 141.463219 \r\nL 146.89375 97.975219 \r\n\" style=\"fill:#04051a;\"/>\r\n    <path clip-path=\"url(#p7b0740ca30)\" d=\"M 200.46175 97.975219 \r\nL 254.02975 97.975219 \r\nL 254.02975 141.463219 \r\nL 200.46175 141.463219 \r\nL 200.46175 97.975219 \r\n\" style=\"fill:#110c24;\"/>\r\n    <path clip-path=\"url(#p7b0740ca30)\" d=\"M 254.02975 97.975219 \r\nL 307.59775 97.975219 \r\nL 307.59775 141.463219 \r\nL 254.02975 141.463219 \r\nL 254.02975 97.975219 \r\n\" style=\"fill:#faebdd;\"/>\r\n    <path clip-path=\"url(#p7b0740ca30)\" d=\"M 307.59775 97.975219 \r\nL 361.16575 97.975219 \r\nL 361.16575 141.463219 \r\nL 307.59775 141.463219 \r\nL 307.59775 97.975219 \r\n\" style=\"fill:#281535;\"/>\r\n    <path clip-path=\"url(#p7b0740ca30)\" d=\"M 361.16575 97.975219 \r\nL 414.73375 97.975219 \r\nL 414.73375 141.463219 \r\nL 361.16575 141.463219 \r\nL 361.16575 97.975219 \r\n\" style=\"fill:#180f29;\"/>\r\n    <path clip-path=\"url(#p7b0740ca30)\" d=\"M 146.89375 141.463219 \r\nL 200.46175 141.463219 \r\nL 200.46175 184.951219 \r\nL 146.89375 184.951219 \r\nL 146.89375 141.463219 \r\n\" style=\"fill:#03051a;\"/>\r\n    <path clip-path=\"url(#p7b0740ca30)\" d=\"M 200.46175 141.463219 \r\nL 254.02975 141.463219 \r\nL 254.02975 184.951219 \r\nL 200.46175 184.951219 \r\nL 200.46175 141.463219 \r\n\" style=\"fill:#f3734e;\"/>\r\n    <path clip-path=\"url(#p7b0740ca30)\" d=\"M 254.02975 141.463219 \r\nL 307.59775 141.463219 \r\nL 307.59775 184.951219 \r\nL 254.02975 184.951219 \r\nL 254.02975 141.463219 \r\n\" style=\"fill:#281535;\"/>\r\n    <path clip-path=\"url(#p7b0740ca30)\" d=\"M 307.59775 141.463219 \r\nL 361.16575 141.463219 \r\nL 361.16575 184.951219 \r\nL 307.59775 184.951219 \r\nL 307.59775 141.463219 \r\n\" style=\"fill:#faebdd;\"/>\r\n    <path clip-path=\"url(#p7b0740ca30)\" d=\"M 361.16575 141.463219 \r\nL 414.73375 141.463219 \r\nL 414.73375 184.951219 \r\nL 361.16575 184.951219 \r\nL 361.16575 141.463219 \r\n\" style=\"fill:#931c5b;\"/>\r\n    <path clip-path=\"url(#p7b0740ca30)\" d=\"M 146.89375 184.951219 \r\nL 200.46175 184.951219 \r\nL 200.46175 228.439219 \r\nL 146.89375 228.439219 \r\nL 146.89375 184.951219 \r\n\" style=\"fill:#30173a;\"/>\r\n    <path clip-path=\"url(#p7b0740ca30)\" d=\"M 200.46175 184.951219 \r\nL 254.02975 184.951219 \r\nL 254.02975 228.439219 \r\nL 200.46175 228.439219 \r\nL 200.46175 184.951219 \r\n\" style=\"fill:#7a1f59;\"/>\r\n    <path clip-path=\"url(#p7b0740ca30)\" d=\"M 254.02975 184.951219 \r\nL 307.59775 184.951219 \r\nL 307.59775 228.439219 \r\nL 254.02975 228.439219 \r\nL 254.02975 184.951219 \r\n\" style=\"fill:#180f29;\"/>\r\n    <path clip-path=\"url(#p7b0740ca30)\" d=\"M 307.59775 184.951219 \r\nL 361.16575 184.951219 \r\nL 361.16575 228.439219 \r\nL 307.59775 228.439219 \r\nL 307.59775 184.951219 \r\n\" style=\"fill:#931c5b;\"/>\r\n    <path clip-path=\"url(#p7b0740ca30)\" d=\"M 361.16575 184.951219 \r\nL 414.73375 184.951219 \r\nL 414.73375 228.439219 \r\nL 361.16575 228.439219 \r\nL 361.16575 184.951219 \r\n\" style=\"fill:#faebdd;\"/>\r\n   </g>\r\n   <g id=\"matplotlib.axis_1\">\r\n    <g id=\"xtick_1\">\r\n     <g id=\"line2d_1\">\r\n      <defs>\r\n       <path d=\"M 0 0 \r\nL 0 3.5 \r\n\" id=\"m6d906c6daa\" style=\"stroke:#000000;stroke-width:0.8;\"/>\r\n      </defs>\r\n      <g>\r\n       <use style=\"stroke:#000000;stroke-width:0.8;\" x=\"173.67775\" xlink:href=\"#m6d906c6daa\" y=\"228.439219\"/>\r\n      </g>\r\n     </g>\r\n     <g id=\"text_1\">\r\n      <!-- Code postal -->\r\n      <g transform=\"translate(176.437125 294.723594)rotate(-90)scale(0.1 -0.1)\">\r\n       <defs>\r\n        <path d=\"M 64.40625 67.28125 \r\nL 64.40625 56.890625 \r\nQ 59.421875 61.53125 53.78125 63.8125 \r\nQ 48.140625 66.109375 41.796875 66.109375 \r\nQ 29.296875 66.109375 22.65625 58.46875 \r\nQ 16.015625 50.828125 16.015625 36.375 \r\nQ 16.015625 21.96875 22.65625 14.328125 \r\nQ 29.296875 6.6875 41.796875 6.6875 \r\nQ 48.140625 6.6875 53.78125 8.984375 \r\nQ 59.421875 11.28125 64.40625 15.921875 \r\nL 64.40625 5.609375 \r\nQ 59.234375 2.09375 53.4375 0.328125 \r\nQ 47.65625 -1.421875 41.21875 -1.421875 \r\nQ 24.65625 -1.421875 15.125 8.703125 \r\nQ 5.609375 18.84375 5.609375 36.375 \r\nQ 5.609375 53.953125 15.125 64.078125 \r\nQ 24.65625 74.21875 41.21875 74.21875 \r\nQ 47.75 74.21875 53.53125 72.484375 \r\nQ 59.328125 70.75 64.40625 67.28125 \r\nz\r\n\" id=\"DejaVuSans-67\"/>\r\n        <path d=\"M 30.609375 48.390625 \r\nQ 23.390625 48.390625 19.1875 42.75 \r\nQ 14.984375 37.109375 14.984375 27.296875 \r\nQ 14.984375 17.484375 19.15625 11.84375 \r\nQ 23.34375 6.203125 30.609375 6.203125 \r\nQ 37.796875 6.203125 41.984375 11.859375 \r\nQ 46.1875 17.53125 46.1875 27.296875 \r\nQ 46.1875 37.015625 41.984375 42.703125 \r\nQ 37.796875 48.390625 30.609375 48.390625 \r\nz\r\nM 30.609375 56 \r\nQ 42.328125 56 49.015625 48.375 \r\nQ 55.71875 40.765625 55.71875 27.296875 \r\nQ 55.71875 13.875 49.015625 6.21875 \r\nQ 42.328125 -1.421875 30.609375 -1.421875 \r\nQ 18.84375 -1.421875 12.171875 6.21875 \r\nQ 5.515625 13.875 5.515625 27.296875 \r\nQ 5.515625 40.765625 12.171875 48.375 \r\nQ 18.84375 56 30.609375 56 \r\nz\r\n\" id=\"DejaVuSans-111\"/>\r\n        <path d=\"M 45.40625 46.390625 \r\nL 45.40625 75.984375 \r\nL 54.390625 75.984375 \r\nL 54.390625 0 \r\nL 45.40625 0 \r\nL 45.40625 8.203125 \r\nQ 42.578125 3.328125 38.25 0.953125 \r\nQ 33.9375 -1.421875 27.875 -1.421875 \r\nQ 17.96875 -1.421875 11.734375 6.484375 \r\nQ 5.515625 14.40625 5.515625 27.296875 \r\nQ 5.515625 40.1875 11.734375 48.09375 \r\nQ 17.96875 56 27.875 56 \r\nQ 33.9375 56 38.25 53.625 \r\nQ 42.578125 51.265625 45.40625 46.390625 \r\nz\r\nM 14.796875 27.296875 \r\nQ 14.796875 17.390625 18.875 11.75 \r\nQ 22.953125 6.109375 30.078125 6.109375 \r\nQ 37.203125 6.109375 41.296875 11.75 \r\nQ 45.40625 17.390625 45.40625 27.296875 \r\nQ 45.40625 37.203125 41.296875 42.84375 \r\nQ 37.203125 48.484375 30.078125 48.484375 \r\nQ 22.953125 48.484375 18.875 42.84375 \r\nQ 14.796875 37.203125 14.796875 27.296875 \r\nz\r\n\" id=\"DejaVuSans-100\"/>\r\n        <path d=\"M 56.203125 29.59375 \r\nL 56.203125 25.203125 \r\nL 14.890625 25.203125 \r\nQ 15.484375 15.921875 20.484375 11.0625 \r\nQ 25.484375 6.203125 34.421875 6.203125 \r\nQ 39.59375 6.203125 44.453125 7.46875 \r\nQ 49.3125 8.734375 54.109375 11.28125 \r\nL 54.109375 2.78125 \r\nQ 49.265625 0.734375 44.1875 -0.34375 \r\nQ 39.109375 -1.421875 33.890625 -1.421875 \r\nQ 20.796875 -1.421875 13.15625 6.1875 \r\nQ 5.515625 13.8125 5.515625 26.8125 \r\nQ 5.515625 40.234375 12.765625 48.109375 \r\nQ 20.015625 56 32.328125 56 \r\nQ 43.359375 56 49.78125 48.890625 \r\nQ 56.203125 41.796875 56.203125 29.59375 \r\nz\r\nM 47.21875 32.234375 \r\nQ 47.125 39.59375 43.09375 43.984375 \r\nQ 39.0625 48.390625 32.421875 48.390625 \r\nQ 24.90625 48.390625 20.390625 44.140625 \r\nQ 15.875 39.890625 15.1875 32.171875 \r\nz\r\n\" id=\"DejaVuSans-101\"/>\r\n        <path id=\"DejaVuSans-32\"/>\r\n        <path d=\"M 18.109375 8.203125 \r\nL 18.109375 -20.796875 \r\nL 9.078125 -20.796875 \r\nL 9.078125 54.6875 \r\nL 18.109375 54.6875 \r\nL 18.109375 46.390625 \r\nQ 20.953125 51.265625 25.265625 53.625 \r\nQ 29.59375 56 35.59375 56 \r\nQ 45.5625 56 51.78125 48.09375 \r\nQ 58.015625 40.1875 58.015625 27.296875 \r\nQ 58.015625 14.40625 51.78125 6.484375 \r\nQ 45.5625 -1.421875 35.59375 -1.421875 \r\nQ 29.59375 -1.421875 25.265625 0.953125 \r\nQ 20.953125 3.328125 18.109375 8.203125 \r\nz\r\nM 48.6875 27.296875 \r\nQ 48.6875 37.203125 44.609375 42.84375 \r\nQ 40.53125 48.484375 33.40625 48.484375 \r\nQ 26.265625 48.484375 22.1875 42.84375 \r\nQ 18.109375 37.203125 18.109375 27.296875 \r\nQ 18.109375 17.390625 22.1875 11.75 \r\nQ 26.265625 6.109375 33.40625 6.109375 \r\nQ 40.53125 6.109375 44.609375 11.75 \r\nQ 48.6875 17.390625 48.6875 27.296875 \r\nz\r\n\" id=\"DejaVuSans-112\"/>\r\n        <path d=\"M 44.28125 53.078125 \r\nL 44.28125 44.578125 \r\nQ 40.484375 46.53125 36.375 47.5 \r\nQ 32.28125 48.484375 27.875 48.484375 \r\nQ 21.1875 48.484375 17.84375 46.4375 \r\nQ 14.5 44.390625 14.5 40.28125 \r\nQ 14.5 37.15625 16.890625 35.375 \r\nQ 19.28125 33.59375 26.515625 31.984375 \r\nL 29.59375 31.296875 \r\nQ 39.15625 29.25 43.1875 25.515625 \r\nQ 47.21875 21.78125 47.21875 15.09375 \r\nQ 47.21875 7.46875 41.1875 3.015625 \r\nQ 35.15625 -1.421875 24.609375 -1.421875 \r\nQ 20.21875 -1.421875 15.453125 -0.5625 \r\nQ 10.6875 0.296875 5.421875 2 \r\nL 5.421875 11.28125 \r\nQ 10.40625 8.6875 15.234375 7.390625 \r\nQ 20.0625 6.109375 24.8125 6.109375 \r\nQ 31.15625 6.109375 34.5625 8.28125 \r\nQ 37.984375 10.453125 37.984375 14.40625 \r\nQ 37.984375 18.0625 35.515625 20.015625 \r\nQ 33.0625 21.96875 24.703125 23.78125 \r\nL 21.578125 24.515625 \r\nQ 13.234375 26.265625 9.515625 29.90625 \r\nQ 5.8125 33.546875 5.8125 39.890625 \r\nQ 5.8125 47.609375 11.28125 51.796875 \r\nQ 16.75 56 26.8125 56 \r\nQ 31.78125 56 36.171875 55.265625 \r\nQ 40.578125 54.546875 44.28125 53.078125 \r\nz\r\n\" id=\"DejaVuSans-115\"/>\r\n        <path d=\"M 18.3125 70.21875 \r\nL 18.3125 54.6875 \r\nL 36.8125 54.6875 \r\nL 36.8125 47.703125 \r\nL 18.3125 47.703125 \r\nL 18.3125 18.015625 \r\nQ 18.3125 11.328125 20.140625 9.421875 \r\nQ 21.96875 7.515625 27.59375 7.515625 \r\nL 36.8125 7.515625 \r\nL 36.8125 0 \r\nL 27.59375 0 \r\nQ 17.1875 0 13.234375 3.875 \r\nQ 9.28125 7.765625 9.28125 18.015625 \r\nL 9.28125 47.703125 \r\nL 2.6875 47.703125 \r\nL 2.6875 54.6875 \r\nL 9.28125 54.6875 \r\nL 9.28125 70.21875 \r\nz\r\n\" id=\"DejaVuSans-116\"/>\r\n        <path d=\"M 34.28125 27.484375 \r\nQ 23.390625 27.484375 19.1875 25 \r\nQ 14.984375 22.515625 14.984375 16.5 \r\nQ 14.984375 11.71875 18.140625 8.90625 \r\nQ 21.296875 6.109375 26.703125 6.109375 \r\nQ 34.1875 6.109375 38.703125 11.40625 \r\nQ 43.21875 16.703125 43.21875 25.484375 \r\nL 43.21875 27.484375 \r\nz\r\nM 52.203125 31.203125 \r\nL 52.203125 0 \r\nL 43.21875 0 \r\nL 43.21875 8.296875 \r\nQ 40.140625 3.328125 35.546875 0.953125 \r\nQ 30.953125 -1.421875 24.3125 -1.421875 \r\nQ 15.921875 -1.421875 10.953125 3.296875 \r\nQ 6 8.015625 6 15.921875 \r\nQ 6 25.140625 12.171875 29.828125 \r\nQ 18.359375 34.515625 30.609375 34.515625 \r\nL 43.21875 34.515625 \r\nL 43.21875 35.40625 \r\nQ 43.21875 41.609375 39.140625 45 \r\nQ 35.0625 48.390625 27.6875 48.390625 \r\nQ 23 48.390625 18.546875 47.265625 \r\nQ 14.109375 46.140625 10.015625 43.890625 \r\nL 10.015625 52.203125 \r\nQ 14.9375 54.109375 19.578125 55.046875 \r\nQ 24.21875 56 28.609375 56 \r\nQ 40.484375 56 46.34375 49.84375 \r\nQ 52.203125 43.703125 52.203125 31.203125 \r\nz\r\n\" id=\"DejaVuSans-97\"/>\r\n        <path d=\"M 9.421875 75.984375 \r\nL 18.40625 75.984375 \r\nL 18.40625 0 \r\nL 9.421875 0 \r\nz\r\n\" id=\"DejaVuSans-108\"/>\r\n       </defs>\r\n       <use xlink:href=\"#DejaVuSans-67\"/>\r\n       <use x=\"69.824219\" xlink:href=\"#DejaVuSans-111\"/>\r\n       <use x=\"131.005859\" xlink:href=\"#DejaVuSans-100\"/>\r\n       <use x=\"194.482422\" xlink:href=\"#DejaVuSans-101\"/>\r\n       <use x=\"256.005859\" xlink:href=\"#DejaVuSans-32\"/>\r\n       <use x=\"287.792969\" xlink:href=\"#DejaVuSans-112\"/>\r\n       <use x=\"351.269531\" xlink:href=\"#DejaVuSans-111\"/>\r\n       <use x=\"412.451172\" xlink:href=\"#DejaVuSans-115\"/>\r\n       <use x=\"464.550781\" xlink:href=\"#DejaVuSans-116\"/>\r\n       <use x=\"503.759766\" xlink:href=\"#DejaVuSans-97\"/>\r\n       <use x=\"565.039062\" xlink:href=\"#DejaVuSans-108\"/>\r\n      </g>\r\n     </g>\r\n    </g>\r\n    <g id=\"xtick_2\">\r\n     <g id=\"line2d_2\">\r\n      <g>\r\n       <use style=\"stroke:#000000;stroke-width:0.8;\" x=\"227.24575\" xlink:href=\"#m6d906c6daa\" y=\"228.439219\"/>\r\n      </g>\r\n     </g>\r\n     <g id=\"text_2\">\r\n      <!-- Nombre pieces principales -->\r\n      <g transform=\"translate(230.005125 368.132969)rotate(-90)scale(0.1 -0.1)\">\r\n       <defs>\r\n        <path d=\"M 9.8125 72.90625 \r\nL 23.09375 72.90625 \r\nL 55.421875 11.921875 \r\nL 55.421875 72.90625 \r\nL 64.984375 72.90625 \r\nL 64.984375 0 \r\nL 51.703125 0 \r\nL 19.390625 60.984375 \r\nL 19.390625 0 \r\nL 9.8125 0 \r\nz\r\n\" id=\"DejaVuSans-78\"/>\r\n        <path d=\"M 52 44.1875 \r\nQ 55.375 50.25 60.0625 53.125 \r\nQ 64.75 56 71.09375 56 \r\nQ 79.640625 56 84.28125 50.015625 \r\nQ 88.921875 44.046875 88.921875 33.015625 \r\nL 88.921875 0 \r\nL 79.890625 0 \r\nL 79.890625 32.71875 \r\nQ 79.890625 40.578125 77.09375 44.375 \r\nQ 74.3125 48.1875 68.609375 48.1875 \r\nQ 61.625 48.1875 57.5625 43.546875 \r\nQ 53.515625 38.921875 53.515625 30.90625 \r\nL 53.515625 0 \r\nL 44.484375 0 \r\nL 44.484375 32.71875 \r\nQ 44.484375 40.625 41.703125 44.40625 \r\nQ 38.921875 48.1875 33.109375 48.1875 \r\nQ 26.21875 48.1875 22.15625 43.53125 \r\nQ 18.109375 38.875 18.109375 30.90625 \r\nL 18.109375 0 \r\nL 9.078125 0 \r\nL 9.078125 54.6875 \r\nL 18.109375 54.6875 \r\nL 18.109375 46.1875 \r\nQ 21.1875 51.21875 25.484375 53.609375 \r\nQ 29.78125 56 35.6875 56 \r\nQ 41.65625 56 45.828125 52.96875 \r\nQ 50 49.953125 52 44.1875 \r\nz\r\n\" id=\"DejaVuSans-109\"/>\r\n        <path d=\"M 48.6875 27.296875 \r\nQ 48.6875 37.203125 44.609375 42.84375 \r\nQ 40.53125 48.484375 33.40625 48.484375 \r\nQ 26.265625 48.484375 22.1875 42.84375 \r\nQ 18.109375 37.203125 18.109375 27.296875 \r\nQ 18.109375 17.390625 22.1875 11.75 \r\nQ 26.265625 6.109375 33.40625 6.109375 \r\nQ 40.53125 6.109375 44.609375 11.75 \r\nQ 48.6875 17.390625 48.6875 27.296875 \r\nz\r\nM 18.109375 46.390625 \r\nQ 20.953125 51.265625 25.265625 53.625 \r\nQ 29.59375 56 35.59375 56 \r\nQ 45.5625 56 51.78125 48.09375 \r\nQ 58.015625 40.1875 58.015625 27.296875 \r\nQ 58.015625 14.40625 51.78125 6.484375 \r\nQ 45.5625 -1.421875 35.59375 -1.421875 \r\nQ 29.59375 -1.421875 25.265625 0.953125 \r\nQ 20.953125 3.328125 18.109375 8.203125 \r\nL 18.109375 0 \r\nL 9.078125 0 \r\nL 9.078125 75.984375 \r\nL 18.109375 75.984375 \r\nz\r\n\" id=\"DejaVuSans-98\"/>\r\n        <path d=\"M 41.109375 46.296875 \r\nQ 39.59375 47.171875 37.8125 47.578125 \r\nQ 36.03125 48 33.890625 48 \r\nQ 26.265625 48 22.1875 43.046875 \r\nQ 18.109375 38.09375 18.109375 28.8125 \r\nL 18.109375 0 \r\nL 9.078125 0 \r\nL 9.078125 54.6875 \r\nL 18.109375 54.6875 \r\nL 18.109375 46.1875 \r\nQ 20.953125 51.171875 25.484375 53.578125 \r\nQ 30.03125 56 36.53125 56 \r\nQ 37.453125 56 38.578125 55.875 \r\nQ 39.703125 55.765625 41.0625 55.515625 \r\nz\r\n\" id=\"DejaVuSans-114\"/>\r\n        <path d=\"M 9.421875 54.6875 \r\nL 18.40625 54.6875 \r\nL 18.40625 0 \r\nL 9.421875 0 \r\nz\r\nM 9.421875 75.984375 \r\nL 18.40625 75.984375 \r\nL 18.40625 64.59375 \r\nL 9.421875 64.59375 \r\nz\r\n\" id=\"DejaVuSans-105\"/>\r\n        <path d=\"M 48.78125 52.59375 \r\nL 48.78125 44.1875 \r\nQ 44.96875 46.296875 41.140625 47.34375 \r\nQ 37.3125 48.390625 33.40625 48.390625 \r\nQ 24.65625 48.390625 19.8125 42.84375 \r\nQ 14.984375 37.3125 14.984375 27.296875 \r\nQ 14.984375 17.28125 19.8125 11.734375 \r\nQ 24.65625 6.203125 33.40625 6.203125 \r\nQ 37.3125 6.203125 41.140625 7.25 \r\nQ 44.96875 8.296875 48.78125 10.40625 \r\nL 48.78125 2.09375 \r\nQ 45.015625 0.34375 40.984375 -0.53125 \r\nQ 36.96875 -1.421875 32.421875 -1.421875 \r\nQ 20.0625 -1.421875 12.78125 6.34375 \r\nQ 5.515625 14.109375 5.515625 27.296875 \r\nQ 5.515625 40.671875 12.859375 48.328125 \r\nQ 20.21875 56 33.015625 56 \r\nQ 37.15625 56 41.109375 55.140625 \r\nQ 45.0625 54.296875 48.78125 52.59375 \r\nz\r\n\" id=\"DejaVuSans-99\"/>\r\n        <path d=\"M 54.890625 33.015625 \r\nL 54.890625 0 \r\nL 45.90625 0 \r\nL 45.90625 32.71875 \r\nQ 45.90625 40.484375 42.875 44.328125 \r\nQ 39.84375 48.1875 33.796875 48.1875 \r\nQ 26.515625 48.1875 22.3125 43.546875 \r\nQ 18.109375 38.921875 18.109375 30.90625 \r\nL 18.109375 0 \r\nL 9.078125 0 \r\nL 9.078125 54.6875 \r\nL 18.109375 54.6875 \r\nL 18.109375 46.1875 \r\nQ 21.34375 51.125 25.703125 53.5625 \r\nQ 30.078125 56 35.796875 56 \r\nQ 45.21875 56 50.046875 50.171875 \r\nQ 54.890625 44.34375 54.890625 33.015625 \r\nz\r\n\" id=\"DejaVuSans-110\"/>\r\n       </defs>\r\n       <use xlink:href=\"#DejaVuSans-78\"/>\r\n       <use x=\"74.804688\" xlink:href=\"#DejaVuSans-111\"/>\r\n       <use x=\"135.986328\" xlink:href=\"#DejaVuSans-109\"/>\r\n       <use x=\"233.398438\" xlink:href=\"#DejaVuSans-98\"/>\r\n       <use x=\"296.875\" xlink:href=\"#DejaVuSans-114\"/>\r\n       <use x=\"335.738281\" xlink:href=\"#DejaVuSans-101\"/>\r\n       <use x=\"397.261719\" xlink:href=\"#DejaVuSans-32\"/>\r\n       <use x=\"429.048828\" xlink:href=\"#DejaVuSans-112\"/>\r\n       <use x=\"492.525391\" xlink:href=\"#DejaVuSans-105\"/>\r\n       <use x=\"520.308594\" xlink:href=\"#DejaVuSans-101\"/>\r\n       <use x=\"581.832031\" xlink:href=\"#DejaVuSans-99\"/>\r\n       <use x=\"636.8125\" xlink:href=\"#DejaVuSans-101\"/>\r\n       <use x=\"698.335938\" xlink:href=\"#DejaVuSans-115\"/>\r\n       <use x=\"750.435547\" xlink:href=\"#DejaVuSans-32\"/>\r\n       <use x=\"782.222656\" xlink:href=\"#DejaVuSans-112\"/>\r\n       <use x=\"845.699219\" xlink:href=\"#DejaVuSans-114\"/>\r\n       <use x=\"886.8125\" xlink:href=\"#DejaVuSans-105\"/>\r\n       <use x=\"914.595703\" xlink:href=\"#DejaVuSans-110\"/>\r\n       <use x=\"977.974609\" xlink:href=\"#DejaVuSans-99\"/>\r\n       <use x=\"1032.955078\" xlink:href=\"#DejaVuSans-105\"/>\r\n       <use x=\"1060.738281\" xlink:href=\"#DejaVuSans-112\"/>\r\n       <use x=\"1124.214844\" xlink:href=\"#DejaVuSans-97\"/>\r\n       <use x=\"1185.494141\" xlink:href=\"#DejaVuSans-108\"/>\r\n       <use x=\"1213.277344\" xlink:href=\"#DejaVuSans-101\"/>\r\n       <use x=\"1274.800781\" xlink:href=\"#DejaVuSans-115\"/>\r\n      </g>\r\n     </g>\r\n    </g>\r\n    <g id=\"xtick_3\">\r\n     <g id=\"line2d_3\">\r\n      <g>\r\n       <use style=\"stroke:#000000;stroke-width:0.8;\" x=\"280.81375\" xlink:href=\"#m6d906c6daa\" y=\"228.439219\"/>\r\n      </g>\r\n     </g>\r\n     <g id=\"text_3\">\r\n      <!-- Surface terrain -->\r\n      <g transform=\"translate(283.573125 310.078281)rotate(-90)scale(0.1 -0.1)\">\r\n       <defs>\r\n        <path d=\"M 53.515625 70.515625 \r\nL 53.515625 60.890625 \r\nQ 47.90625 63.578125 42.921875 64.890625 \r\nQ 37.9375 66.21875 33.296875 66.21875 \r\nQ 25.25 66.21875 20.875 63.09375 \r\nQ 16.5 59.96875 16.5 54.203125 \r\nQ 16.5 49.359375 19.40625 46.890625 \r\nQ 22.3125 44.4375 30.421875 42.921875 \r\nL 36.375 41.703125 \r\nQ 47.40625 39.59375 52.65625 34.296875 \r\nQ 57.90625 29 57.90625 20.125 \r\nQ 57.90625 9.515625 50.796875 4.046875 \r\nQ 43.703125 -1.421875 29.984375 -1.421875 \r\nQ 24.8125 -1.421875 18.96875 -0.25 \r\nQ 13.140625 0.921875 6.890625 3.21875 \r\nL 6.890625 13.375 \r\nQ 12.890625 10.015625 18.65625 8.296875 \r\nQ 24.421875 6.59375 29.984375 6.59375 \r\nQ 38.421875 6.59375 43.015625 9.90625 \r\nQ 47.609375 13.234375 47.609375 19.390625 \r\nQ 47.609375 24.75 44.3125 27.78125 \r\nQ 41.015625 30.8125 33.5 32.328125 \r\nL 27.484375 33.5 \r\nQ 16.453125 35.6875 11.515625 40.375 \r\nQ 6.59375 45.0625 6.59375 53.421875 \r\nQ 6.59375 63.09375 13.40625 68.65625 \r\nQ 20.21875 74.21875 32.171875 74.21875 \r\nQ 37.3125 74.21875 42.625 73.28125 \r\nQ 47.953125 72.359375 53.515625 70.515625 \r\nz\r\n\" id=\"DejaVuSans-83\"/>\r\n        <path d=\"M 8.5 21.578125 \r\nL 8.5 54.6875 \r\nL 17.484375 54.6875 \r\nL 17.484375 21.921875 \r\nQ 17.484375 14.15625 20.5 10.265625 \r\nQ 23.53125 6.390625 29.59375 6.390625 \r\nQ 36.859375 6.390625 41.078125 11.03125 \r\nQ 45.3125 15.671875 45.3125 23.6875 \r\nL 45.3125 54.6875 \r\nL 54.296875 54.6875 \r\nL 54.296875 0 \r\nL 45.3125 0 \r\nL 45.3125 8.40625 \r\nQ 42.046875 3.421875 37.71875 1 \r\nQ 33.40625 -1.421875 27.6875 -1.421875 \r\nQ 18.265625 -1.421875 13.375 4.4375 \r\nQ 8.5 10.296875 8.5 21.578125 \r\nz\r\nM 31.109375 56 \r\nz\r\n\" id=\"DejaVuSans-117\"/>\r\n        <path d=\"M 37.109375 75.984375 \r\nL 37.109375 68.5 \r\nL 28.515625 68.5 \r\nQ 23.6875 68.5 21.796875 66.546875 \r\nQ 19.921875 64.59375 19.921875 59.515625 \r\nL 19.921875 54.6875 \r\nL 34.71875 54.6875 \r\nL 34.71875 47.703125 \r\nL 19.921875 47.703125 \r\nL 19.921875 0 \r\nL 10.890625 0 \r\nL 10.890625 47.703125 \r\nL 2.296875 47.703125 \r\nL 2.296875 54.6875 \r\nL 10.890625 54.6875 \r\nL 10.890625 58.5 \r\nQ 10.890625 67.625 15.140625 71.796875 \r\nQ 19.390625 75.984375 28.609375 75.984375 \r\nz\r\n\" id=\"DejaVuSans-102\"/>\r\n       </defs>\r\n       <use xlink:href=\"#DejaVuSans-83\"/>\r\n       <use x=\"63.476562\" xlink:href=\"#DejaVuSans-117\"/>\r\n       <use x=\"126.855469\" xlink:href=\"#DejaVuSans-114\"/>\r\n       <use x=\"167.96875\" xlink:href=\"#DejaVuSans-102\"/>\r\n       <use x=\"203.173828\" xlink:href=\"#DejaVuSans-97\"/>\r\n       <use x=\"264.453125\" xlink:href=\"#DejaVuSans-99\"/>\r\n       <use x=\"319.433594\" xlink:href=\"#DejaVuSans-101\"/>\r\n       <use x=\"380.957031\" xlink:href=\"#DejaVuSans-32\"/>\r\n       <use x=\"412.744141\" xlink:href=\"#DejaVuSans-116\"/>\r\n       <use x=\"451.953125\" xlink:href=\"#DejaVuSans-101\"/>\r\n       <use x=\"513.476562\" xlink:href=\"#DejaVuSans-114\"/>\r\n       <use x=\"552.839844\" xlink:href=\"#DejaVuSans-114\"/>\r\n       <use x=\"593.953125\" xlink:href=\"#DejaVuSans-97\"/>\r\n       <use x=\"655.232422\" xlink:href=\"#DejaVuSans-105\"/>\r\n       <use x=\"683.015625\" xlink:href=\"#DejaVuSans-110\"/>\r\n      </g>\r\n     </g>\r\n    </g>\r\n    <g id=\"xtick_4\">\r\n     <g id=\"line2d_4\">\r\n      <g>\r\n       <use style=\"stroke:#000000;stroke-width:0.8;\" x=\"334.38175\" xlink:href=\"#m6d906c6daa\" y=\"228.439219\"/>\r\n      </g>\r\n     </g>\r\n     <g id=\"text_4\">\r\n      <!-- Surface reelle bati -->\r\n      <g transform=\"translate(337.141125 326.968906)rotate(-90)scale(0.1 -0.1)\">\r\n       <use xlink:href=\"#DejaVuSans-83\"/>\r\n       <use x=\"63.476562\" xlink:href=\"#DejaVuSans-117\"/>\r\n       <use x=\"126.855469\" xlink:href=\"#DejaVuSans-114\"/>\r\n       <use x=\"167.96875\" xlink:href=\"#DejaVuSans-102\"/>\r\n       <use x=\"203.173828\" xlink:href=\"#DejaVuSans-97\"/>\r\n       <use x=\"264.453125\" xlink:href=\"#DejaVuSans-99\"/>\r\n       <use x=\"319.433594\" xlink:href=\"#DejaVuSans-101\"/>\r\n       <use x=\"380.957031\" xlink:href=\"#DejaVuSans-32\"/>\r\n       <use x=\"412.744141\" xlink:href=\"#DejaVuSans-114\"/>\r\n       <use x=\"451.607422\" xlink:href=\"#DejaVuSans-101\"/>\r\n       <use x=\"513.130859\" xlink:href=\"#DejaVuSans-101\"/>\r\n       <use x=\"574.654297\" xlink:href=\"#DejaVuSans-108\"/>\r\n       <use x=\"602.4375\" xlink:href=\"#DejaVuSans-108\"/>\r\n       <use x=\"630.220703\" xlink:href=\"#DejaVuSans-101\"/>\r\n       <use x=\"691.744141\" xlink:href=\"#DejaVuSans-32\"/>\r\n       <use x=\"723.53125\" xlink:href=\"#DejaVuSans-98\"/>\r\n       <use x=\"787.007812\" xlink:href=\"#DejaVuSans-97\"/>\r\n       <use x=\"848.287109\" xlink:href=\"#DejaVuSans-116\"/>\r\n       <use x=\"887.496094\" xlink:href=\"#DejaVuSans-105\"/>\r\n      </g>\r\n     </g>\r\n    </g>\r\n    <g id=\"xtick_5\">\r\n     <g id=\"line2d_5\">\r\n      <g>\r\n       <use style=\"stroke:#000000;stroke-width:0.8;\" x=\"387.94975\" xlink:href=\"#m6d906c6daa\" y=\"228.439219\"/>\r\n      </g>\r\n     </g>\r\n     <g id=\"text_5\">\r\n      <!-- Valeur fonciere -->\r\n      <g transform=\"translate(390.709125 310.636094)rotate(-90)scale(0.1 -0.1)\">\r\n       <defs>\r\n        <path d=\"M 28.609375 0 \r\nL 0.78125 72.90625 \r\nL 11.078125 72.90625 \r\nL 34.1875 11.53125 \r\nL 57.328125 72.90625 \r\nL 67.578125 72.90625 \r\nL 39.796875 0 \r\nz\r\n\" id=\"DejaVuSans-86\"/>\r\n       </defs>\r\n       <use xlink:href=\"#DejaVuSans-86\"/>\r\n       <use x=\"60.658203\" xlink:href=\"#DejaVuSans-97\"/>\r\n       <use x=\"121.9375\" xlink:href=\"#DejaVuSans-108\"/>\r\n       <use x=\"149.720703\" xlink:href=\"#DejaVuSans-101\"/>\r\n       <use x=\"211.244141\" xlink:href=\"#DejaVuSans-117\"/>\r\n       <use x=\"274.623047\" xlink:href=\"#DejaVuSans-114\"/>\r\n       <use x=\"315.736328\" xlink:href=\"#DejaVuSans-32\"/>\r\n       <use x=\"347.523438\" xlink:href=\"#DejaVuSans-102\"/>\r\n       <use x=\"382.728516\" xlink:href=\"#DejaVuSans-111\"/>\r\n       <use x=\"443.910156\" xlink:href=\"#DejaVuSans-110\"/>\r\n       <use x=\"507.289062\" xlink:href=\"#DejaVuSans-99\"/>\r\n       <use x=\"562.269531\" xlink:href=\"#DejaVuSans-105\"/>\r\n       <use x=\"590.052734\" xlink:href=\"#DejaVuSans-101\"/>\r\n       <use x=\"651.576172\" xlink:href=\"#DejaVuSans-114\"/>\r\n       <use x=\"690.439453\" xlink:href=\"#DejaVuSans-101\"/>\r\n      </g>\r\n     </g>\r\n    </g>\r\n   </g>\r\n   <g id=\"matplotlib.axis_2\">\r\n    <g id=\"ytick_1\">\r\n     <g id=\"line2d_6\">\r\n      <defs>\r\n       <path d=\"M 0 0 \r\nL -3.5 0 \r\n\" id=\"mb836c54171\" style=\"stroke:#000000;stroke-width:0.8;\"/>\r\n      </defs>\r\n      <g>\r\n       <use style=\"stroke:#000000;stroke-width:0.8;\" x=\"146.89375\" xlink:href=\"#mb836c54171\" y=\"32.743219\"/>\r\n      </g>\r\n     </g>\r\n     <g id=\"text_6\">\r\n      <!-- Code postal -->\r\n      <g transform=\"translate(80.609375 36.542438)scale(0.1 -0.1)\">\r\n       <use xlink:href=\"#DejaVuSans-67\"/>\r\n       <use x=\"69.824219\" xlink:href=\"#DejaVuSans-111\"/>\r\n       <use x=\"131.005859\" xlink:href=\"#DejaVuSans-100\"/>\r\n       <use x=\"194.482422\" xlink:href=\"#DejaVuSans-101\"/>\r\n       <use x=\"256.005859\" xlink:href=\"#DejaVuSans-32\"/>\r\n       <use x=\"287.792969\" xlink:href=\"#DejaVuSans-112\"/>\r\n       <use x=\"351.269531\" xlink:href=\"#DejaVuSans-111\"/>\r\n       <use x=\"412.451172\" xlink:href=\"#DejaVuSans-115\"/>\r\n       <use x=\"464.550781\" xlink:href=\"#DejaVuSans-116\"/>\r\n       <use x=\"503.759766\" xlink:href=\"#DejaVuSans-97\"/>\r\n       <use x=\"565.039062\" xlink:href=\"#DejaVuSans-108\"/>\r\n      </g>\r\n     </g>\r\n    </g>\r\n    <g id=\"ytick_2\">\r\n     <g id=\"line2d_7\">\r\n      <g>\r\n       <use style=\"stroke:#000000;stroke-width:0.8;\" x=\"146.89375\" xlink:href=\"#mb836c54171\" y=\"76.231219\"/>\r\n      </g>\r\n     </g>\r\n     <g id=\"text_7\">\r\n      <!-- Nombre pieces principales -->\r\n      <g transform=\"translate(7.2 80.030438)scale(0.1 -0.1)\">\r\n       <use xlink:href=\"#DejaVuSans-78\"/>\r\n       <use x=\"74.804688\" xlink:href=\"#DejaVuSans-111\"/>\r\n       <use x=\"135.986328\" xlink:href=\"#DejaVuSans-109\"/>\r\n       <use x=\"233.398438\" xlink:href=\"#DejaVuSans-98\"/>\r\n       <use x=\"296.875\" xlink:href=\"#DejaVuSans-114\"/>\r\n       <use x=\"335.738281\" xlink:href=\"#DejaVuSans-101\"/>\r\n       <use x=\"397.261719\" xlink:href=\"#DejaVuSans-32\"/>\r\n       <use x=\"429.048828\" xlink:href=\"#DejaVuSans-112\"/>\r\n       <use x=\"492.525391\" xlink:href=\"#DejaVuSans-105\"/>\r\n       <use x=\"520.308594\" xlink:href=\"#DejaVuSans-101\"/>\r\n       <use x=\"581.832031\" xlink:href=\"#DejaVuSans-99\"/>\r\n       <use x=\"636.8125\" xlink:href=\"#DejaVuSans-101\"/>\r\n       <use x=\"698.335938\" xlink:href=\"#DejaVuSans-115\"/>\r\n       <use x=\"750.435547\" xlink:href=\"#DejaVuSans-32\"/>\r\n       <use x=\"782.222656\" xlink:href=\"#DejaVuSans-112\"/>\r\n       <use x=\"845.699219\" xlink:href=\"#DejaVuSans-114\"/>\r\n       <use x=\"886.8125\" xlink:href=\"#DejaVuSans-105\"/>\r\n       <use x=\"914.595703\" xlink:href=\"#DejaVuSans-110\"/>\r\n       <use x=\"977.974609\" xlink:href=\"#DejaVuSans-99\"/>\r\n       <use x=\"1032.955078\" xlink:href=\"#DejaVuSans-105\"/>\r\n       <use x=\"1060.738281\" xlink:href=\"#DejaVuSans-112\"/>\r\n       <use x=\"1124.214844\" xlink:href=\"#DejaVuSans-97\"/>\r\n       <use x=\"1185.494141\" xlink:href=\"#DejaVuSans-108\"/>\r\n       <use x=\"1213.277344\" xlink:href=\"#DejaVuSans-101\"/>\r\n       <use x=\"1274.800781\" xlink:href=\"#DejaVuSans-115\"/>\r\n      </g>\r\n     </g>\r\n    </g>\r\n    <g id=\"ytick_3\">\r\n     <g id=\"line2d_8\">\r\n      <g>\r\n       <use style=\"stroke:#000000;stroke-width:0.8;\" x=\"146.89375\" xlink:href=\"#mb836c54171\" y=\"119.719219\"/>\r\n      </g>\r\n     </g>\r\n     <g id=\"text_8\">\r\n      <!-- Surface terrain -->\r\n      <g transform=\"translate(65.254687 123.518438)scale(0.1 -0.1)\">\r\n       <use xlink:href=\"#DejaVuSans-83\"/>\r\n       <use x=\"63.476562\" xlink:href=\"#DejaVuSans-117\"/>\r\n       <use x=\"126.855469\" xlink:href=\"#DejaVuSans-114\"/>\r\n       <use x=\"167.96875\" xlink:href=\"#DejaVuSans-102\"/>\r\n       <use x=\"203.173828\" xlink:href=\"#DejaVuSans-97\"/>\r\n       <use x=\"264.453125\" xlink:href=\"#DejaVuSans-99\"/>\r\n       <use x=\"319.433594\" xlink:href=\"#DejaVuSans-101\"/>\r\n       <use x=\"380.957031\" xlink:href=\"#DejaVuSans-32\"/>\r\n       <use x=\"412.744141\" xlink:href=\"#DejaVuSans-116\"/>\r\n       <use x=\"451.953125\" xlink:href=\"#DejaVuSans-101\"/>\r\n       <use x=\"513.476562\" xlink:href=\"#DejaVuSans-114\"/>\r\n       <use x=\"552.839844\" xlink:href=\"#DejaVuSans-114\"/>\r\n       <use x=\"593.953125\" xlink:href=\"#DejaVuSans-97\"/>\r\n       <use x=\"655.232422\" xlink:href=\"#DejaVuSans-105\"/>\r\n       <use x=\"683.015625\" xlink:href=\"#DejaVuSans-110\"/>\r\n      </g>\r\n     </g>\r\n    </g>\r\n    <g id=\"ytick_4\">\r\n     <g id=\"line2d_9\">\r\n      <g>\r\n       <use style=\"stroke:#000000;stroke-width:0.8;\" x=\"146.89375\" xlink:href=\"#mb836c54171\" y=\"163.207219\"/>\r\n      </g>\r\n     </g>\r\n     <g id=\"text_9\">\r\n      <!-- Surface reelle bati -->\r\n      <g transform=\"translate(48.364062 167.006438)scale(0.1 -0.1)\">\r\n       <use xlink:href=\"#DejaVuSans-83\"/>\r\n       <use x=\"63.476562\" xlink:href=\"#DejaVuSans-117\"/>\r\n       <use x=\"126.855469\" xlink:href=\"#DejaVuSans-114\"/>\r\n       <use x=\"167.96875\" xlink:href=\"#DejaVuSans-102\"/>\r\n       <use x=\"203.173828\" xlink:href=\"#DejaVuSans-97\"/>\r\n       <use x=\"264.453125\" xlink:href=\"#DejaVuSans-99\"/>\r\n       <use x=\"319.433594\" xlink:href=\"#DejaVuSans-101\"/>\r\n       <use x=\"380.957031\" xlink:href=\"#DejaVuSans-32\"/>\r\n       <use x=\"412.744141\" xlink:href=\"#DejaVuSans-114\"/>\r\n       <use x=\"451.607422\" xlink:href=\"#DejaVuSans-101\"/>\r\n       <use x=\"513.130859\" xlink:href=\"#DejaVuSans-101\"/>\r\n       <use x=\"574.654297\" xlink:href=\"#DejaVuSans-108\"/>\r\n       <use x=\"602.4375\" xlink:href=\"#DejaVuSans-108\"/>\r\n       <use x=\"630.220703\" xlink:href=\"#DejaVuSans-101\"/>\r\n       <use x=\"691.744141\" xlink:href=\"#DejaVuSans-32\"/>\r\n       <use x=\"723.53125\" xlink:href=\"#DejaVuSans-98\"/>\r\n       <use x=\"787.007812\" xlink:href=\"#DejaVuSans-97\"/>\r\n       <use x=\"848.287109\" xlink:href=\"#DejaVuSans-116\"/>\r\n       <use x=\"887.496094\" xlink:href=\"#DejaVuSans-105\"/>\r\n      </g>\r\n     </g>\r\n    </g>\r\n    <g id=\"ytick_5\">\r\n     <g id=\"line2d_10\">\r\n      <g>\r\n       <use style=\"stroke:#000000;stroke-width:0.8;\" x=\"146.89375\" xlink:href=\"#mb836c54171\" y=\"206.695219\"/>\r\n      </g>\r\n     </g>\r\n     <g id=\"text_10\">\r\n      <!-- Valeur fonciere -->\r\n      <g transform=\"translate(64.696875 210.494438)scale(0.1 -0.1)\">\r\n       <use xlink:href=\"#DejaVuSans-86\"/>\r\n       <use x=\"60.658203\" xlink:href=\"#DejaVuSans-97\"/>\r\n       <use x=\"121.9375\" xlink:href=\"#DejaVuSans-108\"/>\r\n       <use x=\"149.720703\" xlink:href=\"#DejaVuSans-101\"/>\r\n       <use x=\"211.244141\" xlink:href=\"#DejaVuSans-117\"/>\r\n       <use x=\"274.623047\" xlink:href=\"#DejaVuSans-114\"/>\r\n       <use x=\"315.736328\" xlink:href=\"#DejaVuSans-32\"/>\r\n       <use x=\"347.523438\" xlink:href=\"#DejaVuSans-102\"/>\r\n       <use x=\"382.728516\" xlink:href=\"#DejaVuSans-111\"/>\r\n       <use x=\"443.910156\" xlink:href=\"#DejaVuSans-110\"/>\r\n       <use x=\"507.289062\" xlink:href=\"#DejaVuSans-99\"/>\r\n       <use x=\"562.269531\" xlink:href=\"#DejaVuSans-105\"/>\r\n       <use x=\"590.052734\" xlink:href=\"#DejaVuSans-101\"/>\r\n       <use x=\"651.576172\" xlink:href=\"#DejaVuSans-114\"/>\r\n       <use x=\"690.439453\" xlink:href=\"#DejaVuSans-101\"/>\r\n      </g>\r\n     </g>\r\n    </g>\r\n   </g>\r\n   <g id=\"text_11\">\r\n    <!-- 1 -->\r\n    <g style=\"fill:#262626;\" transform=\"translate(170.4965 35.502594)scale(0.1 -0.1)\">\r\n     <defs>\r\n      <path d=\"M 12.40625 8.296875 \r\nL 28.515625 8.296875 \r\nL 28.515625 63.921875 \r\nL 10.984375 60.40625 \r\nL 10.984375 69.390625 \r\nL 28.421875 72.90625 \r\nL 38.28125 72.90625 \r\nL 38.28125 8.296875 \r\nL 54.390625 8.296875 \r\nL 54.390625 0 \r\nL 12.40625 0 \r\nz\r\n\" id=\"DejaVuSans-49\"/>\r\n     </defs>\r\n     <use xlink:href=\"#DejaVuSans-49\"/>\r\n    </g>\r\n   </g>\r\n   <g id=\"text_12\">\r\n    <!-- 0.019 -->\r\n    <g style=\"fill:#ffffff;\" transform=\"translate(212.931687 35.502594)scale(0.1 -0.1)\">\r\n     <defs>\r\n      <path d=\"M 31.78125 66.40625 \r\nQ 24.171875 66.40625 20.328125 58.90625 \r\nQ 16.5 51.421875 16.5 36.375 \r\nQ 16.5 21.390625 20.328125 13.890625 \r\nQ 24.171875 6.390625 31.78125 6.390625 \r\nQ 39.453125 6.390625 43.28125 13.890625 \r\nQ 47.125 21.390625 47.125 36.375 \r\nQ 47.125 51.421875 43.28125 58.90625 \r\nQ 39.453125 66.40625 31.78125 66.40625 \r\nz\r\nM 31.78125 74.21875 \r\nQ 44.046875 74.21875 50.515625 64.515625 \r\nQ 56.984375 54.828125 56.984375 36.375 \r\nQ 56.984375 17.96875 50.515625 8.265625 \r\nQ 44.046875 -1.421875 31.78125 -1.421875 \r\nQ 19.53125 -1.421875 13.0625 8.265625 \r\nQ 6.59375 17.96875 6.59375 36.375 \r\nQ 6.59375 54.828125 13.0625 64.515625 \r\nQ 19.53125 74.21875 31.78125 74.21875 \r\nz\r\n\" id=\"DejaVuSans-48\"/>\r\n      <path d=\"M 10.6875 12.40625 \r\nL 21 12.40625 \r\nL 21 0 \r\nL 10.6875 0 \r\nz\r\n\" id=\"DejaVuSans-46\"/>\r\n      <path d=\"M 10.984375 1.515625 \r\nL 10.984375 10.5 \r\nQ 14.703125 8.734375 18.5 7.8125 \r\nQ 22.3125 6.890625 25.984375 6.890625 \r\nQ 35.75 6.890625 40.890625 13.453125 \r\nQ 46.046875 20.015625 46.78125 33.40625 \r\nQ 43.953125 29.203125 39.59375 26.953125 \r\nQ 35.25 24.703125 29.984375 24.703125 \r\nQ 19.046875 24.703125 12.671875 31.3125 \r\nQ 6.296875 37.9375 6.296875 49.421875 \r\nQ 6.296875 60.640625 12.9375 67.421875 \r\nQ 19.578125 74.21875 30.609375 74.21875 \r\nQ 43.265625 74.21875 49.921875 64.515625 \r\nQ 56.59375 54.828125 56.59375 36.375 \r\nQ 56.59375 19.140625 48.40625 8.859375 \r\nQ 40.234375 -1.421875 26.421875 -1.421875 \r\nQ 22.703125 -1.421875 18.890625 -0.6875 \r\nQ 15.09375 0.046875 10.984375 1.515625 \r\nz\r\nM 30.609375 32.421875 \r\nQ 37.25 32.421875 41.125 36.953125 \r\nQ 45.015625 41.5 45.015625 49.421875 \r\nQ 45.015625 57.28125 41.125 61.84375 \r\nQ 37.25 66.40625 30.609375 66.40625 \r\nQ 23.96875 66.40625 20.09375 61.84375 \r\nQ 16.21875 57.28125 16.21875 49.421875 \r\nQ 16.21875 41.5 20.09375 36.953125 \r\nQ 23.96875 32.421875 30.609375 32.421875 \r\nz\r\n\" id=\"DejaVuSans-57\"/>\r\n     </defs>\r\n     <use xlink:href=\"#DejaVuSans-48\"/>\r\n     <use x=\"63.623047\" xlink:href=\"#DejaVuSans-46\"/>\r\n     <use x=\"95.410156\" xlink:href=\"#DejaVuSans-48\"/>\r\n     <use x=\"159.033203\" xlink:href=\"#DejaVuSans-49\"/>\r\n     <use x=\"222.65625\" xlink:href=\"#DejaVuSans-57\"/>\r\n    </g>\r\n   </g>\r\n   <g id=\"text_13\">\r\n    <!-- -0.023 -->\r\n    <g style=\"fill:#ffffff;\" transform=\"translate(264.695781 35.502594)scale(0.1 -0.1)\">\r\n     <defs>\r\n      <path d=\"M 4.890625 31.390625 \r\nL 31.203125 31.390625 \r\nL 31.203125 23.390625 \r\nL 4.890625 23.390625 \r\nz\r\n\" id=\"DejaVuSans-45\"/>\r\n      <path d=\"M 19.1875 8.296875 \r\nL 53.609375 8.296875 \r\nL 53.609375 0 \r\nL 7.328125 0 \r\nL 7.328125 8.296875 \r\nQ 12.9375 14.109375 22.625 23.890625 \r\nQ 32.328125 33.6875 34.8125 36.53125 \r\nQ 39.546875 41.84375 41.421875 45.53125 \r\nQ 43.3125 49.21875 43.3125 52.78125 \r\nQ 43.3125 58.59375 39.234375 62.25 \r\nQ 35.15625 65.921875 28.609375 65.921875 \r\nQ 23.96875 65.921875 18.8125 64.3125 \r\nQ 13.671875 62.703125 7.8125 59.421875 \r\nL 7.8125 69.390625 \r\nQ 13.765625 71.78125 18.9375 73 \r\nQ 24.125 74.21875 28.421875 74.21875 \r\nQ 39.75 74.21875 46.484375 68.546875 \r\nQ 53.21875 62.890625 53.21875 53.421875 \r\nQ 53.21875 48.921875 51.53125 44.890625 \r\nQ 49.859375 40.875 45.40625 35.40625 \r\nQ 44.1875 33.984375 37.640625 27.21875 \r\nQ 31.109375 20.453125 19.1875 8.296875 \r\nz\r\n\" id=\"DejaVuSans-50\"/>\r\n      <path d=\"M 40.578125 39.3125 \r\nQ 47.65625 37.796875 51.625 33 \r\nQ 55.609375 28.21875 55.609375 21.1875 \r\nQ 55.609375 10.40625 48.1875 4.484375 \r\nQ 40.765625 -1.421875 27.09375 -1.421875 \r\nQ 22.515625 -1.421875 17.65625 -0.515625 \r\nQ 12.796875 0.390625 7.625 2.203125 \r\nL 7.625 11.71875 \r\nQ 11.71875 9.328125 16.59375 8.109375 \r\nQ 21.484375 6.890625 26.8125 6.890625 \r\nQ 36.078125 6.890625 40.9375 10.546875 \r\nQ 45.796875 14.203125 45.796875 21.1875 \r\nQ 45.796875 27.640625 41.28125 31.265625 \r\nQ 36.765625 34.90625 28.71875 34.90625 \r\nL 20.21875 34.90625 \r\nL 20.21875 43.015625 \r\nL 29.109375 43.015625 \r\nQ 36.375 43.015625 40.234375 45.921875 \r\nQ 44.09375 48.828125 44.09375 54.296875 \r\nQ 44.09375 59.90625 40.109375 62.90625 \r\nQ 36.140625 65.921875 28.71875 65.921875 \r\nQ 24.65625 65.921875 20.015625 65.03125 \r\nQ 15.375 64.15625 9.8125 62.3125 \r\nL 9.8125 71.09375 \r\nQ 15.4375 72.65625 20.34375 73.4375 \r\nQ 25.25 74.21875 29.59375 74.21875 \r\nQ 40.828125 74.21875 47.359375 69.109375 \r\nQ 53.90625 64.015625 53.90625 55.328125 \r\nQ 53.90625 49.265625 50.4375 45.09375 \r\nQ 46.96875 40.921875 40.578125 39.3125 \r\nz\r\n\" id=\"DejaVuSans-51\"/>\r\n     </defs>\r\n     <use xlink:href=\"#DejaVuSans-45\"/>\r\n     <use x=\"36.083984\" xlink:href=\"#DejaVuSans-48\"/>\r\n     <use x=\"99.707031\" xlink:href=\"#DejaVuSans-46\"/>\r\n     <use x=\"131.494141\" xlink:href=\"#DejaVuSans-48\"/>\r\n     <use x=\"195.117188\" xlink:href=\"#DejaVuSans-50\"/>\r\n     <use x=\"258.740234\" xlink:href=\"#DejaVuSans-51\"/>\r\n    </g>\r\n   </g>\r\n   <g id=\"text_14\">\r\n    <!-- -0.029 -->\r\n    <g style=\"fill:#ffffff;\" transform=\"translate(318.263781 35.502594)scale(0.1 -0.1)\">\r\n     <use xlink:href=\"#DejaVuSans-45\"/>\r\n     <use x=\"36.083984\" xlink:href=\"#DejaVuSans-48\"/>\r\n     <use x=\"99.707031\" xlink:href=\"#DejaVuSans-46\"/>\r\n     <use x=\"131.494141\" xlink:href=\"#DejaVuSans-48\"/>\r\n     <use x=\"195.117188\" xlink:href=\"#DejaVuSans-50\"/>\r\n     <use x=\"258.740234\" xlink:href=\"#DejaVuSans-57\"/>\r\n    </g>\r\n   </g>\r\n   <g id=\"text_15\">\r\n    <!-- 0.1 -->\r\n    <g style=\"fill:#ffffff;\" transform=\"translate(379.998187 35.502594)scale(0.1 -0.1)\">\r\n     <use xlink:href=\"#DejaVuSans-48\"/>\r\n     <use x=\"63.623047\" xlink:href=\"#DejaVuSans-46\"/>\r\n     <use x=\"95.410156\" xlink:href=\"#DejaVuSans-49\"/>\r\n    </g>\r\n   </g>\r\n   <g id=\"text_16\">\r\n    <!-- 0.019 -->\r\n    <g style=\"fill:#ffffff;\" transform=\"translate(159.363687 78.990594)scale(0.1 -0.1)\">\r\n     <use xlink:href=\"#DejaVuSans-48\"/>\r\n     <use x=\"63.623047\" xlink:href=\"#DejaVuSans-46\"/>\r\n     <use x=\"95.410156\" xlink:href=\"#DejaVuSans-48\"/>\r\n     <use x=\"159.033203\" xlink:href=\"#DejaVuSans-49\"/>\r\n     <use x=\"222.65625\" xlink:href=\"#DejaVuSans-57\"/>\r\n    </g>\r\n   </g>\r\n   <g id=\"text_17\">\r\n    <!-- 1 -->\r\n    <g style=\"fill:#262626;\" transform=\"translate(224.0645 78.990594)scale(0.1 -0.1)\">\r\n     <use xlink:href=\"#DejaVuSans-49\"/>\r\n    </g>\r\n   </g>\r\n   <g id=\"text_18\">\r\n    <!-- 0.017 -->\r\n    <g style=\"fill:#ffffff;\" transform=\"translate(266.499688 78.990594)scale(0.1 -0.1)\">\r\n     <defs>\r\n      <path d=\"M 8.203125 72.90625 \r\nL 55.078125 72.90625 \r\nL 55.078125 68.703125 \r\nL 28.609375 0 \r\nL 18.3125 0 \r\nL 43.21875 64.59375 \r\nL 8.203125 64.59375 \r\nz\r\n\" id=\"DejaVuSans-55\"/>\r\n     </defs>\r\n     <use xlink:href=\"#DejaVuSans-48\"/>\r\n     <use x=\"63.623047\" xlink:href=\"#DejaVuSans-46\"/>\r\n     <use x=\"95.410156\" xlink:href=\"#DejaVuSans-48\"/>\r\n     <use x=\"159.033203\" xlink:href=\"#DejaVuSans-49\"/>\r\n     <use x=\"222.65625\" xlink:href=\"#DejaVuSans-55\"/>\r\n    </g>\r\n   </g>\r\n   <g id=\"text_19\">\r\n    <!-- 0.7 -->\r\n    <g style=\"fill:#ffffff;\" transform=\"translate(326.430187 78.990594)scale(0.1 -0.1)\">\r\n     <use xlink:href=\"#DejaVuSans-48\"/>\r\n     <use x=\"63.623047\" xlink:href=\"#DejaVuSans-46\"/>\r\n     <use x=\"95.410156\" xlink:href=\"#DejaVuSans-55\"/>\r\n    </g>\r\n   </g>\r\n   <g id=\"text_20\">\r\n    <!-- 0.29 -->\r\n    <g style=\"fill:#ffffff;\" transform=\"translate(376.816937 78.990594)scale(0.1 -0.1)\">\r\n     <use xlink:href=\"#DejaVuSans-48\"/>\r\n     <use x=\"63.623047\" xlink:href=\"#DejaVuSans-46\"/>\r\n     <use x=\"95.410156\" xlink:href=\"#DejaVuSans-50\"/>\r\n     <use x=\"159.033203\" xlink:href=\"#DejaVuSans-57\"/>\r\n    </g>\r\n   </g>\r\n   <g id=\"text_21\">\r\n    <!-- -0.023 -->\r\n    <g style=\"fill:#ffffff;\" transform=\"translate(157.559781 122.478594)scale(0.1 -0.1)\">\r\n     <use xlink:href=\"#DejaVuSans-45\"/>\r\n     <use x=\"36.083984\" xlink:href=\"#DejaVuSans-48\"/>\r\n     <use x=\"99.707031\" xlink:href=\"#DejaVuSans-46\"/>\r\n     <use x=\"131.494141\" xlink:href=\"#DejaVuSans-48\"/>\r\n     <use x=\"195.117188\" xlink:href=\"#DejaVuSans-50\"/>\r\n     <use x=\"258.740234\" xlink:href=\"#DejaVuSans-51\"/>\r\n    </g>\r\n   </g>\r\n   <g id=\"text_22\">\r\n    <!-- 0.017 -->\r\n    <g style=\"fill:#ffffff;\" transform=\"translate(212.931687 122.478594)scale(0.1 -0.1)\">\r\n     <use xlink:href=\"#DejaVuSans-48\"/>\r\n     <use x=\"63.623047\" xlink:href=\"#DejaVuSans-46\"/>\r\n     <use x=\"95.410156\" xlink:href=\"#DejaVuSans-48\"/>\r\n     <use x=\"159.033203\" xlink:href=\"#DejaVuSans-49\"/>\r\n     <use x=\"222.65625\" xlink:href=\"#DejaVuSans-55\"/>\r\n    </g>\r\n   </g>\r\n   <g id=\"text_23\">\r\n    <!-- 1 -->\r\n    <g style=\"fill:#262626;\" transform=\"translate(277.6325 122.478594)scale(0.1 -0.1)\">\r\n     <use xlink:href=\"#DejaVuSans-49\"/>\r\n    </g>\r\n   </g>\r\n   <g id=\"text_24\">\r\n    <!-- 0.082 -->\r\n    <g style=\"fill:#ffffff;\" transform=\"translate(320.067688 122.478594)scale(0.1 -0.1)\">\r\n     <defs>\r\n      <path d=\"M 31.78125 34.625 \r\nQ 24.75 34.625 20.71875 30.859375 \r\nQ 16.703125 27.09375 16.703125 20.515625 \r\nQ 16.703125 13.921875 20.71875 10.15625 \r\nQ 24.75 6.390625 31.78125 6.390625 \r\nQ 38.8125 6.390625 42.859375 10.171875 \r\nQ 46.921875 13.96875 46.921875 20.515625 \r\nQ 46.921875 27.09375 42.890625 30.859375 \r\nQ 38.875 34.625 31.78125 34.625 \r\nz\r\nM 21.921875 38.8125 \r\nQ 15.578125 40.375 12.03125 44.71875 \r\nQ 8.5 49.078125 8.5 55.328125 \r\nQ 8.5 64.0625 14.71875 69.140625 \r\nQ 20.953125 74.21875 31.78125 74.21875 \r\nQ 42.671875 74.21875 48.875 69.140625 \r\nQ 55.078125 64.0625 55.078125 55.328125 \r\nQ 55.078125 49.078125 51.53125 44.71875 \r\nQ 48 40.375 41.703125 38.8125 \r\nQ 48.828125 37.15625 52.796875 32.3125 \r\nQ 56.78125 27.484375 56.78125 20.515625 \r\nQ 56.78125 9.90625 50.3125 4.234375 \r\nQ 43.84375 -1.421875 31.78125 -1.421875 \r\nQ 19.734375 -1.421875 13.25 4.234375 \r\nQ 6.78125 9.90625 6.78125 20.515625 \r\nQ 6.78125 27.484375 10.78125 32.3125 \r\nQ 14.796875 37.15625 21.921875 38.8125 \r\nz\r\nM 18.3125 54.390625 \r\nQ 18.3125 48.734375 21.84375 45.5625 \r\nQ 25.390625 42.390625 31.78125 42.390625 \r\nQ 38.140625 42.390625 41.71875 45.5625 \r\nQ 45.3125 48.734375 45.3125 54.390625 \r\nQ 45.3125 60.0625 41.71875 63.234375 \r\nQ 38.140625 66.40625 31.78125 66.40625 \r\nQ 25.390625 66.40625 21.84375 63.234375 \r\nQ 18.3125 60.0625 18.3125 54.390625 \r\nz\r\n\" id=\"DejaVuSans-56\"/>\r\n     </defs>\r\n     <use xlink:href=\"#DejaVuSans-48\"/>\r\n     <use x=\"63.623047\" xlink:href=\"#DejaVuSans-46\"/>\r\n     <use x=\"95.410156\" xlink:href=\"#DejaVuSans-48\"/>\r\n     <use x=\"159.033203\" xlink:href=\"#DejaVuSans-56\"/>\r\n     <use x=\"222.65625\" xlink:href=\"#DejaVuSans-50\"/>\r\n    </g>\r\n   </g>\r\n   <g id=\"text_25\">\r\n    <!-- 0.037 -->\r\n    <g style=\"fill:#ffffff;\" transform=\"translate(373.635688 122.478594)scale(0.1 -0.1)\">\r\n     <use xlink:href=\"#DejaVuSans-48\"/>\r\n     <use x=\"63.623047\" xlink:href=\"#DejaVuSans-46\"/>\r\n     <use x=\"95.410156\" xlink:href=\"#DejaVuSans-48\"/>\r\n     <use x=\"159.033203\" xlink:href=\"#DejaVuSans-51\"/>\r\n     <use x=\"222.65625\" xlink:href=\"#DejaVuSans-55\"/>\r\n    </g>\r\n   </g>\r\n   <g id=\"text_26\">\r\n    <!-- -0.029 -->\r\n    <g style=\"fill:#ffffff;\" transform=\"translate(157.559781 165.966594)scale(0.1 -0.1)\">\r\n     <use xlink:href=\"#DejaVuSans-45\"/>\r\n     <use x=\"36.083984\" xlink:href=\"#DejaVuSans-48\"/>\r\n     <use x=\"99.707031\" xlink:href=\"#DejaVuSans-46\"/>\r\n     <use x=\"131.494141\" xlink:href=\"#DejaVuSans-48\"/>\r\n     <use x=\"195.117188\" xlink:href=\"#DejaVuSans-50\"/>\r\n     <use x=\"258.740234\" xlink:href=\"#DejaVuSans-57\"/>\r\n    </g>\r\n   </g>\r\n   <g id=\"text_27\">\r\n    <!-- 0.7 -->\r\n    <g style=\"fill:#ffffff;\" transform=\"translate(219.294187 165.966594)scale(0.1 -0.1)\">\r\n     <use xlink:href=\"#DejaVuSans-48\"/>\r\n     <use x=\"63.623047\" xlink:href=\"#DejaVuSans-46\"/>\r\n     <use x=\"95.410156\" xlink:href=\"#DejaVuSans-55\"/>\r\n    </g>\r\n   </g>\r\n   <g id=\"text_28\">\r\n    <!-- 0.082 -->\r\n    <g style=\"fill:#ffffff;\" transform=\"translate(266.499688 165.966594)scale(0.1 -0.1)\">\r\n     <use xlink:href=\"#DejaVuSans-48\"/>\r\n     <use x=\"63.623047\" xlink:href=\"#DejaVuSans-46\"/>\r\n     <use x=\"95.410156\" xlink:href=\"#DejaVuSans-48\"/>\r\n     <use x=\"159.033203\" xlink:href=\"#DejaVuSans-56\"/>\r\n     <use x=\"222.65625\" xlink:href=\"#DejaVuSans-50\"/>\r\n    </g>\r\n   </g>\r\n   <g id=\"text_29\">\r\n    <!-- 1 -->\r\n    <g style=\"fill:#262626;\" transform=\"translate(331.2005 165.966594)scale(0.1 -0.1)\">\r\n     <use xlink:href=\"#DejaVuSans-49\"/>\r\n    </g>\r\n   </g>\r\n   <g id=\"text_30\">\r\n    <!-- 0.35 -->\r\n    <g style=\"fill:#ffffff;\" transform=\"translate(376.816937 165.966594)scale(0.1 -0.1)\">\r\n     <defs>\r\n      <path d=\"M 10.796875 72.90625 \r\nL 49.515625 72.90625 \r\nL 49.515625 64.59375 \r\nL 19.828125 64.59375 \r\nL 19.828125 46.734375 \r\nQ 21.96875 47.46875 24.109375 47.828125 \r\nQ 26.265625 48.1875 28.421875 48.1875 \r\nQ 40.625 48.1875 47.75 41.5 \r\nQ 54.890625 34.8125 54.890625 23.390625 \r\nQ 54.890625 11.625 47.5625 5.09375 \r\nQ 40.234375 -1.421875 26.90625 -1.421875 \r\nQ 22.3125 -1.421875 17.546875 -0.640625 \r\nQ 12.796875 0.140625 7.71875 1.703125 \r\nL 7.71875 11.625 \r\nQ 12.109375 9.234375 16.796875 8.0625 \r\nQ 21.484375 6.890625 26.703125 6.890625 \r\nQ 35.15625 6.890625 40.078125 11.328125 \r\nQ 45.015625 15.765625 45.015625 23.390625 \r\nQ 45.015625 31 40.078125 35.4375 \r\nQ 35.15625 39.890625 26.703125 39.890625 \r\nQ 22.75 39.890625 18.8125 39.015625 \r\nQ 14.890625 38.140625 10.796875 36.28125 \r\nz\r\n\" id=\"DejaVuSans-53\"/>\r\n     </defs>\r\n     <use xlink:href=\"#DejaVuSans-48\"/>\r\n     <use x=\"63.623047\" xlink:href=\"#DejaVuSans-46\"/>\r\n     <use x=\"95.410156\" xlink:href=\"#DejaVuSans-51\"/>\r\n     <use x=\"159.033203\" xlink:href=\"#DejaVuSans-53\"/>\r\n    </g>\r\n   </g>\r\n   <g id=\"text_31\">\r\n    <!-- 0.1 -->\r\n    <g style=\"fill:#ffffff;\" transform=\"translate(165.726188 209.454594)scale(0.1 -0.1)\">\r\n     <use xlink:href=\"#DejaVuSans-48\"/>\r\n     <use x=\"63.623047\" xlink:href=\"#DejaVuSans-46\"/>\r\n     <use x=\"95.410156\" xlink:href=\"#DejaVuSans-49\"/>\r\n    </g>\r\n   </g>\r\n   <g id=\"text_32\">\r\n    <!-- 0.29 -->\r\n    <g style=\"fill:#ffffff;\" transform=\"translate(216.112937 209.454594)scale(0.1 -0.1)\">\r\n     <use xlink:href=\"#DejaVuSans-48\"/>\r\n     <use x=\"63.623047\" xlink:href=\"#DejaVuSans-46\"/>\r\n     <use x=\"95.410156\" xlink:href=\"#DejaVuSans-50\"/>\r\n     <use x=\"159.033203\" xlink:href=\"#DejaVuSans-57\"/>\r\n    </g>\r\n   </g>\r\n   <g id=\"text_33\">\r\n    <!-- 0.037 -->\r\n    <g style=\"fill:#ffffff;\" transform=\"translate(266.499688 209.454594)scale(0.1 -0.1)\">\r\n     <use xlink:href=\"#DejaVuSans-48\"/>\r\n     <use x=\"63.623047\" xlink:href=\"#DejaVuSans-46\"/>\r\n     <use x=\"95.410156\" xlink:href=\"#DejaVuSans-48\"/>\r\n     <use x=\"159.033203\" xlink:href=\"#DejaVuSans-51\"/>\r\n     <use x=\"222.65625\" xlink:href=\"#DejaVuSans-55\"/>\r\n    </g>\r\n   </g>\r\n   <g id=\"text_34\">\r\n    <!-- 0.35 -->\r\n    <g style=\"fill:#ffffff;\" transform=\"translate(323.248938 209.454594)scale(0.1 -0.1)\">\r\n     <use xlink:href=\"#DejaVuSans-48\"/>\r\n     <use x=\"63.623047\" xlink:href=\"#DejaVuSans-46\"/>\r\n     <use x=\"95.410156\" xlink:href=\"#DejaVuSans-51\"/>\r\n     <use x=\"159.033203\" xlink:href=\"#DejaVuSans-53\"/>\r\n    </g>\r\n   </g>\r\n   <g id=\"text_35\">\r\n    <!-- 1 -->\r\n    <g style=\"fill:#262626;\" transform=\"translate(384.7685 209.454594)scale(0.1 -0.1)\">\r\n     <use xlink:href=\"#DejaVuSans-49\"/>\r\n    </g>\r\n   </g>\r\n  </g>\r\n  <g id=\"axes_2\">\r\n   <g id=\"patch_3\">\r\n    <path clip-path=\"url(#pea4334f29d)\" d=\"M 431.47375 228.439219 \r\nL 431.47375 227.589844 \r\nL 431.47375 11.848594 \r\nL 431.47375 10.999219 \r\nL 442.34575 10.999219 \r\nL 442.34575 11.848594 \r\nL 442.34575 227.589844 \r\nL 442.34575 228.439219 \r\nz\r\n\" style=\"fill:#ffffff;stroke:#ffffff;stroke-linejoin:miter;stroke-width:0.01;\"/>\r\n   </g>\r\n   <image height=\"217\" id=\"imagebe8fa53d41\" transform=\"scale(1 -1)translate(0 -217)\" width=\"11\" x=\"431\" xlink:href=\"data:image/png;base64,\r\niVBORw0KGgoAAAANSUhEUgAAAAsAAADZCAYAAAD2WsoCAAABYUlEQVR4nNXa0W1DMQxDUctSl+j+czZdweeDgOJvgbgiZcfPSM3P7+c8rqmq11otPlDc94aUb6zBKxikTG7kMJb43JVzY8XUUYPBUHYoJ+OOuRHDmEOz8b6SsxGLGzHeV/Lkl+KJDZK5EYubMHrH8Oes65h1OKIpZYz7+5gJw3a3KFuDz58HX+uGFIsbOYzZgWFxC/MQxhI3YhjzeZcO7sG7A4PcqJNixgYBo41ZisHooHUFZ8G0FF8pJgxUfq5VN+CUSTZoGM+1Z27/QbExAwZZF3RjwA2bOmIOWgfKF+49c3KzkSuGe4889iAGKsPN3JThXjBHMHLMhgE/m6gsTxakjMXyJhNz48izYc6NEjdOdwiDQsn5XBNrMBi3KNMehE/eqBuSYA6D3LCzjhJMWYe7O4aRa5CUm4Z/B/MXulG1Y+qoQQtFGtwRd/VPSDk5/OKzxE3/stjSoMUdO+tSDf4DqMQrIz8AaToAAAAASUVORK5CYII=\" y=\"-11\"/>\r\n   <g id=\"matplotlib.axis_3\"/>\r\n   <g id=\"matplotlib.axis_4\">\r\n    <g id=\"ytick_6\">\r\n     <g id=\"line2d_11\">\r\n      <defs>\r\n       <path d=\"M 0 0 \r\nL 3.5 0 \r\n\" id=\"mf09252f214\" style=\"stroke:#000000;stroke-width:0.8;\"/>\r\n      </defs>\r\n      <g>\r\n       <use style=\"stroke:#000000;stroke-width:0.8;\" x=\"442.34575\" xlink:href=\"#mf09252f214\" y=\"222.372679\"/>\r\n      </g>\r\n     </g>\r\n     <g id=\"text_36\">\r\n      <!-- 0.0 -->\r\n      <g transform=\"translate(449.34575 226.171898)scale(0.1 -0.1)\">\r\n       <use xlink:href=\"#DejaVuSans-48\"/>\r\n       <use x=\"63.623047\" xlink:href=\"#DejaVuSans-46\"/>\r\n       <use x=\"95.410156\" xlink:href=\"#DejaVuSans-48\"/>\r\n      </g>\r\n     </g>\r\n    </g>\r\n    <g id=\"ytick_7\">\r\n     <g id=\"line2d_12\">\r\n      <g>\r\n       <use style=\"stroke:#000000;stroke-width:0.8;\" x=\"442.34575\" xlink:href=\"#mf09252f214\" y=\"180.097987\"/>\r\n      </g>\r\n     </g>\r\n     <g id=\"text_37\">\r\n      <!-- 0.2 -->\r\n      <g transform=\"translate(449.34575 183.897206)scale(0.1 -0.1)\">\r\n       <use xlink:href=\"#DejaVuSans-48\"/>\r\n       <use x=\"63.623047\" xlink:href=\"#DejaVuSans-46\"/>\r\n       <use x=\"95.410156\" xlink:href=\"#DejaVuSans-50\"/>\r\n      </g>\r\n     </g>\r\n    </g>\r\n    <g id=\"ytick_8\">\r\n     <g id=\"line2d_13\">\r\n      <g>\r\n       <use style=\"stroke:#000000;stroke-width:0.8;\" x=\"442.34575\" xlink:href=\"#mf09252f214\" y=\"137.823295\"/>\r\n      </g>\r\n     </g>\r\n     <g id=\"text_38\">\r\n      <!-- 0.4 -->\r\n      <g transform=\"translate(449.34575 141.622514)scale(0.1 -0.1)\">\r\n       <defs>\r\n        <path d=\"M 37.796875 64.3125 \r\nL 12.890625 25.390625 \r\nL 37.796875 25.390625 \r\nz\r\nM 35.203125 72.90625 \r\nL 47.609375 72.90625 \r\nL 47.609375 25.390625 \r\nL 58.015625 25.390625 \r\nL 58.015625 17.1875 \r\nL 47.609375 17.1875 \r\nL 47.609375 0 \r\nL 37.796875 0 \r\nL 37.796875 17.1875 \r\nL 4.890625 17.1875 \r\nL 4.890625 26.703125 \r\nz\r\n\" id=\"DejaVuSans-52\"/>\r\n       </defs>\r\n       <use xlink:href=\"#DejaVuSans-48\"/>\r\n       <use x=\"63.623047\" xlink:href=\"#DejaVuSans-46\"/>\r\n       <use x=\"95.410156\" xlink:href=\"#DejaVuSans-52\"/>\r\n      </g>\r\n     </g>\r\n    </g>\r\n    <g id=\"ytick_9\">\r\n     <g id=\"line2d_14\">\r\n      <g>\r\n       <use style=\"stroke:#000000;stroke-width:0.8;\" x=\"442.34575\" xlink:href=\"#mf09252f214\" y=\"95.548603\"/>\r\n      </g>\r\n     </g>\r\n     <g id=\"text_39\">\r\n      <!-- 0.6 -->\r\n      <g transform=\"translate(449.34575 99.347822)scale(0.1 -0.1)\">\r\n       <defs>\r\n        <path d=\"M 33.015625 40.375 \r\nQ 26.375 40.375 22.484375 35.828125 \r\nQ 18.609375 31.296875 18.609375 23.390625 \r\nQ 18.609375 15.53125 22.484375 10.953125 \r\nQ 26.375 6.390625 33.015625 6.390625 \r\nQ 39.65625 6.390625 43.53125 10.953125 \r\nQ 47.40625 15.53125 47.40625 23.390625 \r\nQ 47.40625 31.296875 43.53125 35.828125 \r\nQ 39.65625 40.375 33.015625 40.375 \r\nz\r\nM 52.59375 71.296875 \r\nL 52.59375 62.3125 \r\nQ 48.875 64.0625 45.09375 64.984375 \r\nQ 41.3125 65.921875 37.59375 65.921875 \r\nQ 27.828125 65.921875 22.671875 59.328125 \r\nQ 17.53125 52.734375 16.796875 39.40625 \r\nQ 19.671875 43.65625 24.015625 45.921875 \r\nQ 28.375 48.1875 33.59375 48.1875 \r\nQ 44.578125 48.1875 50.953125 41.515625 \r\nQ 57.328125 34.859375 57.328125 23.390625 \r\nQ 57.328125 12.15625 50.6875 5.359375 \r\nQ 44.046875 -1.421875 33.015625 -1.421875 \r\nQ 20.359375 -1.421875 13.671875 8.265625 \r\nQ 6.984375 17.96875 6.984375 36.375 \r\nQ 6.984375 53.65625 15.1875 63.9375 \r\nQ 23.390625 74.21875 37.203125 74.21875 \r\nQ 40.921875 74.21875 44.703125 73.484375 \r\nQ 48.484375 72.75 52.59375 71.296875 \r\nz\r\n\" id=\"DejaVuSans-54\"/>\r\n       </defs>\r\n       <use xlink:href=\"#DejaVuSans-48\"/>\r\n       <use x=\"63.623047\" xlink:href=\"#DejaVuSans-46\"/>\r\n       <use x=\"95.410156\" xlink:href=\"#DejaVuSans-54\"/>\r\n      </g>\r\n     </g>\r\n    </g>\r\n    <g id=\"ytick_10\">\r\n     <g id=\"line2d_15\">\r\n      <g>\r\n       <use style=\"stroke:#000000;stroke-width:0.8;\" x=\"442.34575\" xlink:href=\"#mf09252f214\" y=\"53.273911\"/>\r\n      </g>\r\n     </g>\r\n     <g id=\"text_40\">\r\n      <!-- 0.8 -->\r\n      <g transform=\"translate(449.34575 57.07313)scale(0.1 -0.1)\">\r\n       <use xlink:href=\"#DejaVuSans-48\"/>\r\n       <use x=\"63.623047\" xlink:href=\"#DejaVuSans-46\"/>\r\n       <use x=\"95.410156\" xlink:href=\"#DejaVuSans-56\"/>\r\n      </g>\r\n     </g>\r\n    </g>\r\n    <g id=\"ytick_11\">\r\n     <g id=\"line2d_16\">\r\n      <g>\r\n       <use style=\"stroke:#000000;stroke-width:0.8;\" x=\"442.34575\" xlink:href=\"#mf09252f214\" y=\"10.999219\"/>\r\n      </g>\r\n     </g>\r\n     <g id=\"text_41\">\r\n      <!-- 1.0 -->\r\n      <g transform=\"translate(449.34575 14.798437)scale(0.1 -0.1)\">\r\n       <use xlink:href=\"#DejaVuSans-49\"/>\r\n       <use x=\"63.623047\" xlink:href=\"#DejaVuSans-46\"/>\r\n       <use x=\"95.410156\" xlink:href=\"#DejaVuSans-48\"/>\r\n      </g>\r\n     </g>\r\n    </g>\r\n   </g>\r\n   <g id=\"patch_4\">\r\n    <path d=\"M 431.47375 228.439219 \r\nL 431.47375 227.589844 \r\nL 431.47375 11.848594 \r\nL 431.47375 10.999219 \r\nL 442.34575 10.999219 \r\nL 442.34575 11.848594 \r\nL 442.34575 227.589844 \r\nL 442.34575 228.439219 \r\nz\r\n\" style=\"fill:none;\"/>\r\n   </g>\r\n  </g>\r\n </g>\r\n <defs>\r\n  <clipPath id=\"p7b0740ca30\">\r\n   <rect height=\"217.44\" width=\"267.84\" x=\"146.89375\" y=\"10.999219\"/>\r\n  </clipPath>\r\n  <clipPath id=\"pea4334f29d\">\r\n   <rect height=\"217.44\" width=\"10.872\" x=\"431.47375\" y=\"10.999219\"/>\r\n  </clipPath>\r\n </defs>\r\n</svg>\r\n",
      "image/png": "[encoded data removed]"
     },
     "metadata": {
      "needs_background": "light"
     }
    }
   ],
   "source": [
    "corrMatrix = maisonsfinal.corr()\n",
    "sn.heatmap(corrMatrix, annot=True)\n",
    "plt.show()"
   ]
  },
  {
   "cell_type": "code",
   "execution_count": null,
   "metadata": {},
   "outputs": [],
   "source": [
    "corrMatrix = appart2019.corr()\n",
    "sn.heatmap(corrMatrix, annot=True)\n",
    "plt.show()"
   ]
  },
  {
   "cell_type": "code",
   "execution_count": null,
   "metadata": {},
   "outputs": [],
   "source": [
    "maisons2019.to_csv(cr.CURATED_LOCAL_PATH + 'filteredmaisons2019.csv', index=False)\n",
    "appart2019.to_csv(cr.CURATED_LOCAL_PATH + 'filteredappart2019.csv', index=False)"
   ]
  },
  {
   "cell_type": "code",
   "execution_count": null,
   "metadata": {},
   "outputs": [],
   "source": [
    "maisons2019 = pd.read_csv(cr.CURATED_LOCAL_PATH + 'filteredmaisons2019.csv', sep=\",\")\n",
    "appart2019 = pd.read_csv(cr.CURATED_LOCAL_PATH + 'filteredappart2019.csv', sep=\",\")\n"
   ]
  },
  {
   "cell_type": "code",
   "execution_count": null,
   "metadata": {},
   "outputs": [],
   "source": [
    "modele_lineaire_appart = predictor.trainLinearLeRetour(appart2019)"
   ]
  },
  {
   "cell_type": "code",
   "execution_count": null,
   "metadata": {},
   "outputs": [],
   "source": [
    "predictor.predictionLinear(appart2019[appart2019.index==28], modele_lineaire_appart)"
   ]
  },
  {
   "cell_type": "code",
   "execution_count": null,
   "metadata": {},
   "outputs": [],
   "source": [
    "# Split des données par type de logement et par département\n",
    "splitter.split_datas('filteredmaisons2019.csv', 'Code postal', 'CPMaisons')\n",
    "splitter.split_datas('filteredappart2019.csv', 'Code postal', 'CPAppart')"
   ]
  },
  {
   "cell_type": "code",
   "execution_count": null,
   "metadata": {},
   "outputs": [],
   "source": [
    "maisonsavendre = pd.read_csv(cr.CURATED_LOCAL_PATH+'CPMaisons/63.csv')\n",
    "maisonsavendre = maisonsavendre.dropna()"
   ]
  },
  {
   "cell_type": "code",
   "execution_count": null,
   "metadata": {},
   "outputs": [],
   "source": [
    "modeleL = predictor.trainLinearLeRetour(maisonsavendre)"
   ]
  },
  {
   "cell_type": "code",
   "execution_count": null,
   "metadata": {},
   "outputs": [],
   "source": [
    "predictor.predictionLinear(maisonsavendre[maisonsavendre.index==123], modeleL)"
   ]
  }
 ],
 "metadata": {
  "kernelspec": {
   "display_name": "Python 3",
   "language": "python",
   "name": "python3"
  },
  "language_info": {
   "codemirror_mode": {
    "name": "ipython",
    "version": 3
   },
   "file_extension": ".py",
   "mimetype": "text/x-python",
   "name": "python",
   "nbconvert_exporter": "python",
   "pygments_lexer": "ipython3",
   "version": "3.7.9-final"
  }
 },
 "nbformat": 4,
 "nbformat_minor": 2
}